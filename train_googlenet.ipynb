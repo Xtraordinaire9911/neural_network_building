{
  "nbformat": 4,
  "nbformat_minor": 5,
  "metadata": {
    "kernelspec": {
      "display_name": "Python 3",
      "language": "python",
      "name": "python3"
    },
    "language_info": {
      "codemirror_mode": {
        "name": "ipython",
        "version": 3
      },
      "file_extension": ".py",
      "mimetype": "text/x-python",
      "name": "python",
      "nbconvert_exporter": "python",
      "pygments_lexer": "ipython3",
      "version": "3.8.8"
    },
    "colab": {
      "name": "train_googlenet.ipynb",
      "provenance": [],
      "collapsed_sections": []
    }
  },
  "cells": [
    {
      "cell_type": "code",
      "metadata": {
        "jupyter": {
          "outputs_hidden": true
        },
        "tags": [],
        "id": "1a4733db"
      },
      "source": [
        "!/usr/bin/python3 -m pip install --upgrade pip\n",
        "!apt-get update\n",
        "!apt-get install git -y\n",
        "!git clone https://github.com/Xtraordinaire9911/neural_network_building.git\n",
        "!pip3 install torch==1.8.1+cu111 torchvision==0.9.1+cu111 torchaudio===0.8.1 -f https://download.pytorch.org/whl/torch_stable.html\n",
        "!pip install tqdm\n",
        "!pip install matplotlib\n",
        "!pip install tensorboard\n",
        "!pip install tensorboardX"
      ],
      "id": "1a4733db",
      "execution_count": null,
      "outputs": []
    },
    {
      "cell_type": "code",
      "metadata": {
        "collapsed": true,
        "jupyter": {
          "outputs_hidden": true
        },
        "tags": [],
        "id": "dc742023",
        "outputId": "0c587b20-6cdf-4241-a6b1-91ae11f183bd"
      },
      "source": [
        "!nvidia-smi"
      ],
      "id": "dc742023",
      "execution_count": null,
      "outputs": [
        {
          "output_type": "stream",
          "text": [
            "Tue Jun 15 00:31:39 2021       \n",
            "+-----------------------------------------------------------------------------+\n",
            "| NVIDIA-SMI 465.19.01    Driver Version: 465.19.01    CUDA Version: 11.3     |\n",
            "|-------------------------------+----------------------+----------------------+\n",
            "| GPU  Name        Persistence-M| Bus-Id        Disp.A | Volatile Uncorr. ECC |\n",
            "| Fan  Temp  Perf  Pwr:Usage/Cap|         Memory-Usage | GPU-Util  Compute M. |\n",
            "|                               |                      |               MIG M. |\n",
            "|===============================+======================+======================|\n",
            "|   0  NVIDIA GeForce ...  On   | 00000000:68:00.0 Off |                  N/A |\n",
            "| 30%   44C    P8    27W / 350W |      1MiB / 24268MiB |      0%      Default |\n",
            "|                               |                      |                  N/A |\n",
            "+-------------------------------+----------------------+----------------------+\n",
            "                                                                               \n",
            "+-----------------------------------------------------------------------------+\n",
            "| Processes:                                                                  |\n",
            "|  GPU   GI   CI        PID   Type   Process name                  GPU Memory |\n",
            "|        ID   ID                                                   Usage      |\n",
            "|=============================================================================|\n",
            "|  No running processes found                                                 |\n",
            "+-----------------------------------------------------------------------------+\n"
          ],
          "name": "stdout"
        }
      ]
    },
    {
      "cell_type": "code",
      "metadata": {
        "tags": [],
        "id": "5486ec9c"
      },
      "source": [
        "# %%timeit\n",
        "import os\n",
        "import json\n",
        "import torch\n",
        "import torch.nn as nn\n",
        "from torchvision import transforms, datasets\n",
        "import torch.optim as optim\n",
        "from tqdm import tqdm\n",
        "import numpy as np\n",
        "\n",
        "from model_googlenet import GoogLeNet\n",
        "\n",
        "from IPython.core.interactiveshell import InteractiveShell\n",
        "InteractiveShell.ast_node_interactivity = \"all\""
      ],
      "id": "5486ec9c",
      "execution_count": null,
      "outputs": []
    },
    {
      "cell_type": "code",
      "metadata": {
        "id": "af80affd"
      },
      "source": [
        "def train():\n",
        "    device = torch.device(\"cuda:0\" if torch.cuda.is_available() else \"cpu\")\n",
        "    print(\"using {} device.\".format(device))\n",
        "\n",
        "    data_transform = {\n",
        "        \"train\": transforms.Compose([transforms.RandomResizedCrop(224),\n",
        "                                     transforms.RandomHorizontalFlip(),\n",
        "                                     transforms.ToTensor(),\n",
        "                                     transforms.Normalize((0.5, 0.5, 0.5), (0.5, 0.5, 0.5))]),\n",
        "        \"val\": transforms.Compose([transforms.Resize((224, 224)),\n",
        "                                   transforms.ToTensor(),\n",
        "                                   transforms.Normalize((0.5, 0.5, 0.5), (0.5, 0.5, 0.5))])}\n",
        "    \n",
        "    print('current root:', os.getcwd())\n",
        "#     data_root = os.path.abspath(os.path.join(os.getcwd(), \"..\"))  # get data root path\n",
        "    data_root = os.getcwd()\n",
        "    print('data_root:', data_root)\n",
        "    image_path = os.path.join(data_root, \"dataset\", \"flower_data\")  # flower data set path\n",
        "    assert os.path.exists(image_path), \"{} path does not exist.\".format(image_path)\n",
        "    train_dataset = datasets.ImageFolder(root=os.path.join(image_path, \"train\"),\n",
        "                                         transform=data_transform[\"train\"])\n",
        "    train_num = len(train_dataset)\n",
        "\n",
        "    # {'daisy':0, 'dandelion':1, 'roses':2, 'sunflower':3, 'tulips':4}\n",
        "    flower_list = train_dataset.class_to_idx\n",
        "    cla_dict = dict((val, key) for key, val in flower_list.items())\n",
        "    # write dict into json file\n",
        "    json_str = json.dumps(cla_dict, indent=4)\n",
        "    with open('class_indices.json', 'w') as json_file:\n",
        "        json_file.write(json_str)\n",
        "\n",
        "    batch_size = 32\n",
        "    nw = min([os.cpu_count(), batch_size if batch_size > 1 else 0, 8])  # number of workers\n",
        "    print('Using {} dataloader workers every process'.format(nw))\n",
        "\n",
        "    train_loader = torch.utils.data.DataLoader(train_dataset,\n",
        "                                               batch_size=batch_size, shuffle=True,\n",
        "                                               num_workers=nw)\n",
        "\n",
        "    validate_dataset = datasets.ImageFolder(root=os.path.join(image_path, \"val\"),\n",
        "                                            transform=data_transform[\"val\"])\n",
        "    val_num = len(validate_dataset)\n",
        "    validate_loader = torch.utils.data.DataLoader(validate_dataset,\n",
        "                                                  batch_size=batch_size, shuffle=True,\n",
        "                                                  num_workers=nw)\n",
        "\n",
        "    print(\"using {} images for training, {} images for validation.\".format(train_num,\n",
        "                                                                           val_num))\n",
        "\n",
        "    # test_data_iter = iter(validate_loader)\n",
        "    # test_image, test_label = test_data_iter.next()\n",
        "\n",
        "    # net = torchvision.models.googlenet(num_classes=5)\n",
        "    # model_dict = net.state_dict()\n",
        "    # pretrain_model = torch.load(\"googlenet.pth\")\n",
        "    # del_list = [\"aux1.fc2.weight\", \"aux1.fc2.bias\",\n",
        "    #             \"aux2.fc2.weight\", \"aux2.fc2.bias\",\n",
        "    #             \"fc.weight\", \"fc.bias\"]\n",
        "    # pretrain_dict = {k: v for k, v in pretrain_model.items() if k not in del_list}\n",
        "    # model_dict.update(pretrain_dict)\n",
        "    # net.load_state_dict(model_dict)\n",
        "    net = GoogLeNet(num_classes=5, if_aux_logits=True, if_init_weights=True)\n",
        "    net.to(device)\n",
        "    loss_function = nn.CrossEntropyLoss()\n",
        "    optimizer = optim.Adam(net.parameters(), lr=0.0003)\n",
        "\n",
        "    epochs = 150\n",
        "    best_acc = 0.0\n",
        "    l_loss = []\n",
        "    l_acc = []\n",
        "    save_path = './GoogLeNet.pth'\n",
        "    train_steps = len(train_loader)\n",
        "    for epoch in range(epochs):\n",
        "        # train\n",
        "        net.train()\n",
        "        running_loss = 0.0\n",
        "        train_bar = tqdm(train_loader)\n",
        "        for step, data in enumerate(train_bar):\n",
        "            images, labels = data\n",
        "            optimizer.zero_grad()\n",
        "            logits, aux_logits2, aux_logits1 = net(images.to(device))\n",
        "            loss0 = loss_function(logits, labels.to(device))\n",
        "            loss1 = loss_function(aux_logits1, labels.to(device))\n",
        "            loss2 = loss_function(aux_logits2, labels.to(device))\n",
        "            loss = loss0 + loss1 * 0.3 + loss2 * 0.3\n",
        "            loss.backward()\n",
        "            optimizer.step()\n",
        "\n",
        "            # print statistics\n",
        "            running_loss += loss.item()\n",
        "            l_loss.append(running_loss)\n",
        "\n",
        "            train_bar.desc = \"train epoch[{}/{}] loss:{:.3f}\".format(epoch + 1,\n",
        "                                                                     epochs,\n",
        "                                                                     loss)\n",
        "\n",
        "        # validate\n",
        "        net.eval()\n",
        "        acc = 0.0  # accumulate accurate number / epoch\n",
        "        with torch.no_grad():\n",
        "            val_bar = tqdm(validate_loader)\n",
        "            for val_data in val_bar:\n",
        "                val_images, val_labels = val_data\n",
        "                outputs = net(val_images.to(device))  # eval model only have last output layer\n",
        "#                 if epoch == 0:\n",
        "#                     print(type(outputs[0]), outputs[0].size())\n",
        "#                 predict_y = torch.max(outputs[0], dim=1)\n",
        "#                 if epoch == 0:\n",
        "#                     print(type(predict_y[1]), len(predict_y[1]))\n",
        "                acc += torch.eq(predict_y[1], val_labels.to(device)).sum().item()\n",
        "\n",
        "        val_accurate = acc / val_num\n",
        "        l_acc.append(val_accurate)\n",
        "        print('[epoch %d] train_loss: %.3f  val_accuracy: %.3f' %\n",
        "              (epoch + 1, running_loss / train_steps, val_accurate))\n",
        "\n",
        "        if val_accurate > best_acc:\n",
        "            best_acc = val_accurate\n",
        "            torch.save(net.state_dict(), save_path)\n",
        "            \n",
        "        if epoch > 10 and np.max(l_acc[-10:]) - np.min(l_acc[-10:]) < 0.02 and val_accurate > 0.75:\n",
        "            break\n",
        "\n",
        "    print('Finished Training')\n",
        "    return l_loss, l_acc"
      ],
      "id": "af80affd",
      "execution_count": null,
      "outputs": []
    },
    {
      "cell_type": "code",
      "metadata": {
        "jupyter": {
          "outputs_hidden": true
        },
        "tags": [],
        "id": "33048835"
      },
      "source": [
        "%%time\n",
        "\n",
        "from tensorboardX import SummaryWriter\n",
        "writer1 = SummaryWriter('runs02/accuracy')\n",
        "# start tensorboard\n",
        "%load_ext tensorboard\n",
        "%tensorboard --logdir=runs02/accuracy\n",
        "l_train_loss, l_accuracy = train()"
      ],
      "id": "33048835",
      "execution_count": null,
      "outputs": []
    },
    {
      "cell_type": "code",
      "metadata": {
        "jupyter": {
          "outputs_hidden": true
        },
        "tags": [],
        "id": "852ee5bb"
      },
      "source": [
        "!nvidia-smi --query-gpu=memory.free --format=csv"
      ],
      "id": "852ee5bb",
      "execution_count": null,
      "outputs": []
    },
    {
      "cell_type": "code",
      "metadata": {
        "id": "efe04061",
        "outputId": "17bc5a43-f765-47ed-8ef7-3c88678b6cd6"
      },
      "source": [
        "import matplotlib.pyplot as plt\n",
        "fig = plt.figure()\n",
        "plt.plot(l_train_loss)"
      ],
      "id": "efe04061",
      "execution_count": null,
      "outputs": [
        {
          "output_type": "execute_result",
          "data": {
            "text/plain": [
              "[<matplotlib.lines.Line2D at 0x7f06d4834c40>]"
            ]
          },
          "metadata": {
            "tags": []
          },
          "execution_count": 53
        },
        {
          "output_type": "display_data",
          "data": {
            "image/png": "[encoded data removed]",
            "text/plain": [
              "<Figure size 432x288 with 1 Axes>"
            ]
          },
          "metadata": {
            "tags": [],
            "needs_background": "light"
          }
        }
      ]
    },
    {
      "cell_type": "code",
      "metadata": {
        "id": "f862d250",
        "outputId": "feb783c0-8089-46aa-b474-cc82f9443dd1"
      },
      "source": [
        "fig = plt.figure()\n",
        "# plt.xlim(-2, len(l_accuracy)+1)\n",
        "plt.ylim(0, 1)\n",
        "plt.hlines(np.mean(l_accuracy[-10:]), len(l_accuracy)+2, l_accuracy[-1], linestyle=\"dashed\", color=\"black\")\n",
        "plt.text(3.5, np.mean(l_accuracy[-10:])-0.05, '{}'.format(np.round(np.mean(l_accuracy[-10:]), 2), ha='center', va= 'bottom'))\n",
        "plt.plot(l_accuracy)"
      ],
      "id": "f862d250",
      "execution_count": null,
      "outputs": [
        {
          "output_type": "execute_result",
          "data": {
            "text/plain": [
              "(0.0, 1.0)"
            ]
          },
          "metadata": {
            "tags": []
          },
          "execution_count": 59
        },
        {
          "output_type": "execute_result",
          "data": {
            "text/plain": [
              "<matplotlib.collections.LineCollection at 0x7f06d46a0a30>"
            ]
          },
          "metadata": {
            "tags": []
          },
          "execution_count": 59
        },
        {
          "output_type": "execute_result",
          "data": {
            "text/plain": [
              "Text(3.5, 0.7802197802197801, '0.83')"
            ]
          },
          "metadata": {
            "tags": []
          },
          "execution_count": 59
        },
        {
          "output_type": "execute_result",
          "data": {
            "text/plain": [
              "[<matplotlib.lines.Line2D at 0x7f06d4650820>]"
            ]
          },
          "metadata": {
            "tags": []
          },
          "execution_count": 59
        },
        {
          "output_type": "display_data",
          "data": {
            "image/png": "[encoded data removed]",
            "text/plain": [
              "<Figure size 432x288 with 1 Axes>"
            ]
          },
          "metadata": {
            "tags": [],
            "needs_background": "light"
          }
        }
      ]
    },
    {
      "cell_type": "code",
      "metadata": {
        "id": "2daebeec"
      },
      "source": [
        "# len(l_train_loss)\n",
        "# print(list(map(lambda x: round(x, 2), l_train_loss)))"
      ],
      "id": "2daebeec",
      "execution_count": null,
      "outputs": []
    },
    {
      "cell_type": "code",
      "metadata": {
        "id": "4fa12f94"
      },
      "source": [
        "# len(l_accuracy)\n",
        "# print(list(map(lambda x: round(x, 3), l_accuracy)))"
      ],
      "id": "4fa12f94",
      "execution_count": null,
      "outputs": []
    },
    {
      "cell_type": "code",
      "metadata": {
        "id": "aff2c3c7"
      },
      "source": [
        ""
      ],
      "id": "aff2c3c7",
      "execution_count": null,
      "outputs": []
    }
  ]
}