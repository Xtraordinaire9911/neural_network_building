{
 "cells": [
  {
   "cell_type": "code",
   "execution_count": null,
   "metadata": {
    "jupyter": {
     "outputs_hidden": true
    },
    "tags": []
   },
   "outputs": [],
   "source": [
    "!/usr/bin/python3 -m pip install --upgrade pip\n",
    "!apt-get update\n",
    "!apt-get install git -y\n",
    "!git clone https://github.com/Xtraordinaire9911/neural_network_building.git\n",
    "!pip3 install torch==1.8.1+cu111 torchvision==0.9.1+cu111 torchaudio===0.8.1 -f https://download.pytorch.org/whl/torch_stable.html\n",
    "!pip install tqdm\n",
    "!pip install matplotlib\n",
    "!pip install tensorboard\n",
    "!pip install tensorboardX"
   ]
  },
  {
   "cell_type": "code",
   "execution_count": null,
   "metadata": {
    "tags": []
   },
   "outputs": [],
   "source": [
    "import os\n",
    "import json\n",
    "import torch\n",
    "import torch.nn as nn\n",
    "from torchvision import transforms, datasets\n",
    "import torch.optim as optim\n",
    "from tqdm import tqdm\n",
    "import numpy as np\n",
    "\n",
    "from model_googlenet import GoogLeNet\n",
    "\n",
    "from IPython.core.interactiveshell import InteractiveShell\n",
    "InteractiveShell.ast_node_interactivity = \"all\""
   ]
  },
  {
   "cell_type": "code",
   "execution_count": null,
   "metadata": {},
   "outputs": [],
   "source": [
    "def predict(img_addr):\n",
    "    device = torch.device(\"cuda:0\" if torch.cuda.is_available() else \"cpu\")\n",
    "\n",
    "    data_transform = transforms.Compose(\n",
    "        [transforms.Resize((224, 224)),\n",
    "         transforms.ToTensor(),\n",
    "         transforms.Normalize((0.5, 0.5, 0.5), (0.5, 0.5, 0.5))])\n",
    "    \n",
    "    # read class_indict\n",
    "    json_path = './class_indices.json'\n",
    "    assert os.path.exists(json_path), \"file: '{}' dose not exist.\".format(json_path)\n",
    "\n",
    "    json_file = open(json_path, \"r\")\n",
    "    class_indict = json.load(json_file)\n",
    "\n",
    "    # create model\n",
    "    model = GoogLeNet(num_classes=5, if_aux_logits=True, if_init_weights=False).to(device)\n",
    "\n",
    "    # load model weights\n",
    "    weights_path = \"./googleNet.pth\"\n",
    "    assert os.path.exists(weights_path), \"file: '{}' dose not exist.\".format(weights_path)\n",
    "    missing_keys, unexpected_keys = model.load_state_dict(torch.load(weights_path, map_location=device),\n",
    "                                                          strict=False)\n",
    "\n",
    "    model.eval()\n",
    "    \n",
    "    # load a to-be-predicted flower image\n",
    "    img_to_show = Image.open(img_addr)\n",
    "#     plt.imshow(img)\n",
    "    # [N, C, H, W]\n",
    "    img = data_transform(img_to_show)\n",
    "    # expand batch dimension\n",
    "    img = torch.unsqueeze(img, dim=0)\n",
    "\n",
    "    with torch.no_grad():\n",
    "        # predict class\n",
    "        output = torch.squeeze(model(img.to(device))[0]).cpu()\n",
    "        predict = torch.softmax(output, dim=0)\n",
    "        predict_cla = torch.argmax(predict).numpy()\n",
    "\n",
    "    print_res = \"{}  class: {}   prob: {:.3}\".format(img_addr.split('/')[-1], class_indict[str(predict_cla)],\n",
    "                                                 predict[predict_cla].numpy())\n",
    "    return img_to_show, print_res"
   ]
  },
  {
   "cell_type": "code",
   "execution_count": null,
   "metadata": {
    "jupyter": {
     "outputs_hidden": true
    },
    "tags": []
   },
   "outputs": [],
   "source": [
    "%%time\n",
    "\n",
    "from tensorboardX import SummaryWriter\n",
    "writer1 = SummaryWriter('runs02/accuracy')\n",
    "# start tensorboard\n",
    "%load_ext tensorboard\n",
    "%tensorboard --logdir=runs02/accuracy\n",
    "l_train_loss, l_accuracy = train()"
   ]
  },
  {
   "cell_type": "code",
   "execution_count": null,
   "metadata": {
    "scrolled": true
   },
   "outputs": [],
   "source": [
    "%%time\n",
    "\n",
    "img_path = os.path.join(os.getcwd(), \"test_data\")  #you may test on your own test set\n",
    "num_imgs = len(os.listdir(img_path)) - 1  # -1 because there is usually a .ipynb checkpoint file in the img_path\n",
    "plt.figure(figsize=(20, 20))\n",
    "\n",
    "for i in range(1, num_imgs+1):\n",
    "    img_name = \"test_{}.jpg\".format(str(i) if i >= 10 else str(0)+str(i))\n",
    "    img_addr = os.path.join(img_path, img_name)\n",
    "#     print(img_addr)\n",
    "    try:\n",
    "        assert os.path.exists(img_addr)\n",
    "    except:\n",
    "        print(\"img {} dose not exist.\".format(img_addr))\n",
    "        continue\n",
    "    img_to_show, print_res = predict(img_addr)\n",
    "    print(print_res)\n",
    "    plt.subplot((num_imgs-1)//4 + 1, 4, i)\n",
    "    plt.title(print_res)\n",
    "    plt.imshow(img_to_show)\n",
    "plt.show()"
   ]
  },
  {
   "cell_type": "code",
   "execution_count": null,
   "metadata": {},
   "outputs": [],
   "source": []
  }
 ],
 "metadata": {
  "kernelspec": {
   "display_name": "Python 3",
   "language": "python",
   "name": "python3"
  },
  "language_info": {
   "codemirror_mode": {
    "name": "ipython",
    "version": 3
   },
   "file_extension": ".py",
   "mimetype": "text/x-python",
   "name": "python",
   "nbconvert_exporter": "python",
   "pygments_lexer": "ipython3",
   "version": "3.8.5"
  }
 },
 "nbformat": 4,
 "nbformat_minor": 5
}
