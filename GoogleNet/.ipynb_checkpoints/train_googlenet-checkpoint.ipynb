{
 "cells": [
  {
   "cell_type": "code",
   "execution_count": 1,
   "metadata": {
    "collapsed": true,
    "jupyter": {
     "outputs_hidden": true
    },
    "tags": []
   },
   "outputs": [
    {
     "name": "stdout",
     "output_type": "stream",
     "text": [
      "/bin/bash: /usr/bin/python3: No such file or directory\n",
      "Hit:1 http://archive.ubuntu.com/ubuntu bionic InRelease\n",
      "Get:2 http://archive.ubuntu.com/ubuntu bionic-updates InRelease [88.7 kB]      \n",
      "Get:3 http://archive.ubuntu.com/ubuntu bionic-backports InRelease [74.6 kB]    \n",
      "Get:4 http://security.ubuntu.com/ubuntu bionic-security InRelease [88.7 kB]    \n",
      "Fetched 252 kB in 1s (325 kB/s)                                                \n",
      "Reading package lists... Done\n",
      "Reading package lists... Done\n",
      "Building dependency tree       \n",
      "Reading state information... Done\n",
      "git is already the newest version (1:2.17.1-1ubuntu0.8).\n",
      "0 upgraded, 0 newly installed, 0 to remove and 15 not upgraded.\n",
      "fatal: destination path 'neural_network_building' already exists and is not an empty directory.\n",
      "Looking in links: https://download.pytorch.org/whl/torch_stable.html\n",
      "Requirement already satisfied: torch==1.8.1+cu111 in /opt/conda/lib/python3.8/site-packages (1.8.1+cu111)\n",
      "Requirement already satisfied: torchvision==0.9.1+cu111 in /opt/conda/lib/python3.8/site-packages (0.9.1+cu111)\n",
      "Requirement already satisfied: torchaudio===0.8.1 in /opt/conda/lib/python3.8/site-packages (0.8.1)\n",
      "Requirement already satisfied: numpy in /opt/conda/lib/python3.8/site-packages (from torch==1.8.1+cu111) (1.19.2)\n",
      "Requirement already satisfied: typing-extensions in /opt/conda/lib/python3.8/site-packages (from torch==1.8.1+cu111) (3.7.4.3)\n",
      "Requirement already satisfied: pillow>=4.1.1 in /opt/conda/lib/python3.8/site-packages (from torchvision==0.9.1+cu111) (8.1.2)\n",
      "Requirement already satisfied: tqdm in /opt/conda/lib/python3.8/site-packages (4.51.0)\n",
      "Requirement already satisfied: matplotlib in /opt/conda/lib/python3.8/site-packages (3.4.2)\n",
      "Requirement already satisfied: pyparsing>=2.2.1 in /opt/conda/lib/python3.8/site-packages (from matplotlib) (2.4.7)\n",
      "Requirement already satisfied: python-dateutil>=2.7 in /opt/conda/lib/python3.8/site-packages (from matplotlib) (2.8.1)\n",
      "Requirement already satisfied: kiwisolver>=1.0.1 in /opt/conda/lib/python3.8/site-packages (from matplotlib) (1.3.1)\n",
      "Requirement already satisfied: pillow>=6.2.0 in /opt/conda/lib/python3.8/site-packages (from matplotlib) (8.1.2)\n",
      "Requirement already satisfied: numpy>=1.16 in /opt/conda/lib/python3.8/site-packages (from matplotlib) (1.19.2)\n",
      "Requirement already satisfied: cycler>=0.10 in /opt/conda/lib/python3.8/site-packages (from matplotlib) (0.10.0)\n",
      "Requirement already satisfied: six>=1.5 in /opt/conda/lib/python3.8/site-packages (from python-dateutil>=2.7->matplotlib) (1.15.0)\n",
      "Requirement already satisfied: tensorboard in /opt/conda/lib/python3.8/site-packages (2.5.0)\n",
      "Requirement already satisfied: absl-py>=0.4 in /opt/conda/lib/python3.8/site-packages (from tensorboard) (0.12.0)\n",
      "Requirement already satisfied: numpy>=1.12.0 in /opt/conda/lib/python3.8/site-packages (from tensorboard) (1.19.2)\n",
      "Requirement already satisfied: setuptools>=41.0.0 in /opt/conda/lib/python3.8/site-packages (from tensorboard) (50.3.1.post20201107)\n",
      "Requirement already satisfied: tensorboard-plugin-wit>=1.6.0 in /opt/conda/lib/python3.8/site-packages (from tensorboard) (1.8.0)\n",
      "Requirement already satisfied: google-auth<2,>=1.6.3 in /opt/conda/lib/python3.8/site-packages (from tensorboard) (1.31.0)\n",
      "Requirement already satisfied: protobuf>=3.6.0 in /opt/conda/lib/python3.8/site-packages (from tensorboard) (3.17.3)\n",
      "Requirement already satisfied: requests<3,>=2.21.0 in /opt/conda/lib/python3.8/site-packages (from tensorboard) (2.24.0)\n",
      "Requirement already satisfied: markdown>=2.6.8 in /opt/conda/lib/python3.8/site-packages (from tensorboard) (3.3.4)\n",
      "Requirement already satisfied: google-auth-oauthlib<0.5,>=0.4.1 in /opt/conda/lib/python3.8/site-packages (from tensorboard) (0.4.4)\n",
      "Requirement already satisfied: werkzeug>=0.11.15 in /opt/conda/lib/python3.8/site-packages (from tensorboard) (2.0.1)\n",
      "Requirement already satisfied: tensorboard-data-server<0.7.0,>=0.6.0 in /opt/conda/lib/python3.8/site-packages (from tensorboard) (0.6.1)\n",
      "Requirement already satisfied: wheel>=0.26; python_version >= \"3\" in /opt/conda/lib/python3.8/site-packages (from tensorboard) (0.35.1)\n",
      "Requirement already satisfied: grpcio>=1.24.3 in /opt/conda/lib/python3.8/site-packages (from tensorboard) (1.38.0)\n",
      "Requirement already satisfied: six in /opt/conda/lib/python3.8/site-packages (from absl-py>=0.4->tensorboard) (1.15.0)\n",
      "Requirement already satisfied: rsa<5,>=3.1.4; python_version >= \"3.6\" in /opt/conda/lib/python3.8/site-packages (from google-auth<2,>=1.6.3->tensorboard) (4.7.2)\n",
      "Requirement already satisfied: pyasn1-modules>=0.2.1 in /opt/conda/lib/python3.8/site-packages (from google-auth<2,>=1.6.3->tensorboard) (0.2.8)\n",
      "Requirement already satisfied: cachetools<5.0,>=2.0.0 in /opt/conda/lib/python3.8/site-packages (from google-auth<2,>=1.6.3->tensorboard) (4.2.2)\n",
      "Requirement already satisfied: chardet<4,>=3.0.2 in /opt/conda/lib/python3.8/site-packages (from requests<3,>=2.21.0->tensorboard) (3.0.4)\n",
      "Requirement already satisfied: urllib3!=1.25.0,!=1.25.1,<1.26,>=1.21.1 in /opt/conda/lib/python3.8/site-packages (from requests<3,>=2.21.0->tensorboard) (1.25.11)\n",
      "Requirement already satisfied: certifi>=2017.4.17 in /opt/conda/lib/python3.8/site-packages (from requests<3,>=2.21.0->tensorboard) (2020.12.5)\n",
      "Requirement already satisfied: idna<3,>=2.5 in /opt/conda/lib/python3.8/site-packages (from requests<3,>=2.21.0->tensorboard) (2.10)\n",
      "Requirement already satisfied: requests-oauthlib>=0.7.0 in /opt/conda/lib/python3.8/site-packages (from google-auth-oauthlib<0.5,>=0.4.1->tensorboard) (1.3.0)\n",
      "Requirement already satisfied: pyasn1>=0.1.3 in /opt/conda/lib/python3.8/site-packages (from rsa<5,>=3.1.4; python_version >= \"3.6\"->google-auth<2,>=1.6.3->tensorboard) (0.4.8)\n",
      "Requirement already satisfied: oauthlib>=3.0.0 in /opt/conda/lib/python3.8/site-packages (from requests-oauthlib>=0.7.0->google-auth-oauthlib<0.5,>=0.4.1->tensorboard) (3.1.1)\n",
      "Requirement already satisfied: tensorboardX in /opt/conda/lib/python3.8/site-packages (2.2)\n",
      "Requirement already satisfied: numpy in /opt/conda/lib/python3.8/site-packages (from tensorboardX) (1.19.2)\n",
      "Requirement already satisfied: protobuf>=3.8.0 in /opt/conda/lib/python3.8/site-packages (from tensorboardX) (3.17.3)\n",
      "Requirement already satisfied: six>=1.9 in /opt/conda/lib/python3.8/site-packages (from protobuf>=3.8.0->tensorboardX) (1.15.0)\n"
     ]
    }
   ],
   "source": [
    "!/usr/bin/python3 -m pip install --upgrade pip\n",
    "!apt-get update\n",
    "!apt-get install git -y\n",
    "!git clone https://github.com/Xtraordinaire9911/neural_network_building.git\n",
    "!pip3 install torch==1.8.1+cu111 torchvision==0.9.1+cu111 torchaudio===0.8.1 -f https://download.pytorch.org/whl/torch_stable.html\n",
    "!pip install tqdm\n",
    "!pip install matplotlib\n",
    "!pip install tensorboard\n",
    "!pip install tensorboardX"
   ]
  },
  {
   "cell_type": "code",
   "execution_count": 2,
   "metadata": {
    "collapsed": true,
    "jupyter": {
     "outputs_hidden": true
    },
    "tags": []
   },
   "outputs": [
    {
     "name": "stdout",
     "output_type": "stream",
     "text": [
      "Tue Jun 15 00:31:39 2021       \n",
      "+-----------------------------------------------------------------------------+\n",
      "| NVIDIA-SMI 465.19.01    Driver Version: 465.19.01    CUDA Version: 11.3     |\n",
      "|-------------------------------+----------------------+----------------------+\n",
      "| GPU  Name        Persistence-M| Bus-Id        Disp.A | Volatile Uncorr. ECC |\n",
      "| Fan  Temp  Perf  Pwr:Usage/Cap|         Memory-Usage | GPU-Util  Compute M. |\n",
      "|                               |                      |               MIG M. |\n",
      "|===============================+======================+======================|\n",
      "|   0  NVIDIA GeForce ...  On   | 00000000:68:00.0 Off |                  N/A |\n",
      "| 30%   44C    P8    27W / 350W |      1MiB / 24268MiB |      0%      Default |\n",
      "|                               |                      |                  N/A |\n",
      "+-------------------------------+----------------------+----------------------+\n",
      "                                                                               \n",
      "+-----------------------------------------------------------------------------+\n",
      "| Processes:                                                                  |\n",
      "|  GPU   GI   CI        PID   Type   Process name                  GPU Memory |\n",
      "|        ID   ID                                                   Usage      |\n",
      "|=============================================================================|\n",
      "|  No running processes found                                                 |\n",
      "+-----------------------------------------------------------------------------+\n"
     ]
    }
   ],
   "source": [
    "!nvidia-smi"
   ]
  },
  {
   "cell_type": "code",
   "execution_count": 14,
   "metadata": {
    "tags": []
   },
   "outputs": [],
   "source": [
    "# %%timeit\n",
    "import os\n",
    "import json\n",
    "import torch\n",
    "import torch.nn as nn\n",
    "from torchvision import transforms, datasets\n",
    "import torch.optim as optim\n",
    "from tqdm import tqdm\n",
    "import numpy as np\n",
    "\n",
    "from model_googlenet import GoogLeNet\n",
    "\n",
    "from IPython.core.interactiveshell import InteractiveShell\n",
    "InteractiveShell.ast_node_interactivity = \"all\""
   ]
  },
  {
   "cell_type": "code",
   "execution_count": 50,
   "metadata": {},
   "outputs": [],
   "source": [
    "def train():\n",
    "    device = torch.device(\"cuda:0\" if torch.cuda.is_available() else \"cpu\")\n",
    "    print(\"using {} device.\".format(device))\n",
    "\n",
    "    data_transform = {\n",
    "        \"train\": transforms.Compose([transforms.RandomResizedCrop(224),\n",
    "                                     transforms.RandomHorizontalFlip(),\n",
    "                                     transforms.ToTensor(),\n",
    "                                     transforms.Normalize((0.5, 0.5, 0.5), (0.5, 0.5, 0.5))]),\n",
    "        \"val\": transforms.Compose([transforms.Resize((224, 224)),\n",
    "                                   transforms.ToTensor(),\n",
    "                                   transforms.Normalize((0.5, 0.5, 0.5), (0.5, 0.5, 0.5))])}\n",
    "    \n",
    "    print('current root:', os.getcwd())\n",
    "#     data_root = os.path.abspath(os.path.join(os.getcwd(), \"..\"))  # get data root path\n",
    "    data_root = os.getcwd()\n",
    "    print('data_root:', data_root)\n",
    "    image_path = os.path.join(data_root, \"dataset\", \"flower_data\")  # flower data set path\n",
    "    assert os.path.exists(image_path), \"{} path does not exist.\".format(image_path)\n",
    "    train_dataset = datasets.ImageFolder(root=os.path.join(image_path, \"train\"),\n",
    "                                         transform=data_transform[\"train\"])\n",
    "    train_num = len(train_dataset)\n",
    "\n",
    "    # {'daisy':0, 'dandelion':1, 'roses':2, 'sunflower':3, 'tulips':4}\n",
    "    flower_list = train_dataset.class_to_idx\n",
    "    cla_dict = dict((val, key) for key, val in flower_list.items())\n",
    "    # write dict into json file\n",
    "    json_str = json.dumps(cla_dict, indent=4)\n",
    "    with open('class_indices.json', 'w') as json_file:\n",
    "        json_file.write(json_str)\n",
    "\n",
    "    batch_size = 32\n",
    "    nw = min([os.cpu_count(), batch_size if batch_size > 1 else 0, 8])  # number of workers\n",
    "    print('Using {} dataloader workers every process'.format(nw))\n",
    "\n",
    "    train_loader = torch.utils.data.DataLoader(train_dataset,\n",
    "                                               batch_size=batch_size, shuffle=True,\n",
    "                                               num_workers=nw)\n",
    "\n",
    "    validate_dataset = datasets.ImageFolder(root=os.path.join(image_path, \"val\"),\n",
    "                                            transform=data_transform[\"val\"])\n",
    "    val_num = len(validate_dataset)\n",
    "    validate_loader = torch.utils.data.DataLoader(validate_dataset,\n",
    "                                                  batch_size=batch_size, shuffle=True,\n",
    "                                                  num_workers=nw)\n",
    "\n",
    "    print(\"using {} images for training, {} images for validation.\".format(train_num,\n",
    "                                                                           val_num))\n",
    "\n",
    "    # test_data_iter = iter(validate_loader)\n",
    "    # test_image, test_label = test_data_iter.next()\n",
    "\n",
    "    # net = torchvision.models.googlenet(num_classes=5)\n",
    "    # model_dict = net.state_dict()\n",
    "    # pretrain_model = torch.load(\"googlenet.pth\")\n",
    "    # del_list = [\"aux1.fc2.weight\", \"aux1.fc2.bias\",\n",
    "    #             \"aux2.fc2.weight\", \"aux2.fc2.bias\",\n",
    "    #             \"fc.weight\", \"fc.bias\"]\n",
    "    # pretrain_dict = {k: v for k, v in pretrain_model.items() if k not in del_list}\n",
    "    # model_dict.update(pretrain_dict)\n",
    "    # net.load_state_dict(model_dict)\n",
    "    net = GoogLeNet(num_classes=5, if_aux_logits=True, if_init_weights=True)\n",
    "    net.to(device)\n",
    "    loss_function = nn.CrossEntropyLoss()\n",
    "    optimizer = optim.Adam(net.parameters(), lr=0.0003)\n",
    "\n",
    "    epochs = 150\n",
    "    best_acc = 0.0\n",
    "    l_loss = []\n",
    "    l_acc = []\n",
    "    save_path = './GoogLeNet.pth'\n",
    "    train_steps = len(train_loader)\n",
    "    for epoch in range(epochs):\n",
    "        # train\n",
    "        net.train()\n",
    "        running_loss = 0.0\n",
    "        train_bar = tqdm(train_loader)\n",
    "        for step, data in enumerate(train_bar):\n",
    "            images, labels = data\n",
    "            optimizer.zero_grad()\n",
    "            logits, aux_logits2, aux_logits1 = net(images.to(device))\n",
    "            loss0 = loss_function(logits, labels.to(device))\n",
    "            loss1 = loss_function(aux_logits1, labels.to(device))\n",
    "            loss2 = loss_function(aux_logits2, labels.to(device))\n",
    "            loss = loss0 + loss1 * 0.3 + loss2 * 0.3\n",
    "            loss.backward()\n",
    "            optimizer.step()\n",
    "\n",
    "            # print statistics\n",
    "            running_loss += loss.item()\n",
    "            l_loss.append(running_loss)\n",
    "\n",
    "            train_bar.desc = \"train epoch[{}/{}] loss:{:.3f}\".format(epoch + 1,\n",
    "                                                                     epochs,\n",
    "                                                                     loss)\n",
    "\n",
    "        # validate\n",
    "        net.eval()\n",
    "        acc = 0.0  # accumulate accurate number / epoch\n",
    "        with torch.no_grad():\n",
    "            val_bar = tqdm(validate_loader)\n",
    "            for val_data in val_bar:\n",
    "                val_images, val_labels = val_data\n",
    "                outputs = net(val_images.to(device))  # eval model only have last output layer\n",
    "#                 if epoch == 0:\n",
    "#                     print(type(outputs[0]), outputs[0].size())\n",
    "#                 predict_y = torch.max(outputs[0], dim=1)\n",
    "#                 if epoch == 0:\n",
    "#                     print(type(predict_y[1]), len(predict_y[1]))\n",
    "                acc += torch.eq(predict_y[1], val_labels.to(device)).sum().item()\n",
    "\n",
    "        val_accurate = acc / val_num\n",
    "        l_acc.append(val_accurate)\n",
    "        print('[epoch %d] train_loss: %.3f  val_accuracy: %.3f' %\n",
    "              (epoch + 1, running_loss / train_steps, val_accurate))\n",
    "\n",
    "        if val_accurate > best_acc:\n",
    "            best_acc = val_accurate\n",
    "            torch.save(net.state_dict(), save_path)\n",
    "            \n",
    "        if epoch > 10 and np.max(l_acc[-10:]) - np.min(l_acc[-10:]) < 0.02 and val_accurate > 0.75:\n",
    "            break\n",
    "\n",
    "    print('Finished Training')\n",
    "    return l_loss, l_acc"
   ]
  },
  {
   "cell_type": "code",
   "execution_count": 51,
   "metadata": {
    "collapsed": true,
    "jupyter": {
     "outputs_hidden": true
    },
    "tags": []
   },
   "outputs": [
    {
     "name": "stdout",
     "output_type": "stream",
     "text": [
      "The tensorboard extension is already loaded. To reload it, use:\n",
      "  %reload_ext tensorboard\n"
     ]
    },
    {
     "data": {
      "text/plain": [
       "Reusing TensorBoard on port 6006 (pid 676), started 3:30:50 ago. (Use '!kill 676' to kill it.)"
      ]
     },
     "metadata": {},
     "output_type": "display_data"
    },
    {
     "data": {
      "text/html": [
       "\n",
       "      <iframe id=\"tensorboard-frame-32109d3c34f0881b\" width=\"100%\" height=\"800\" frameborder=\"0\">\n",
       "      </iframe>\n",
       "      <script>\n",
       "        (function() {\n",
       "          const frame = document.getElementById(\"tensorboard-frame-32109d3c34f0881b\");\n",
       "          const url = new URL(\"/\", window.location);\n",
       "          const port = 6006;\n",
       "          if (port) {\n",
       "            url.port = port;\n",
       "          }\n",
       "          frame.src = url;\n",
       "        })();\n",
       "      </script>\n",
       "    "
      ],
      "text/plain": [
       "<IPython.core.display.HTML object>"
      ]
     },
     "metadata": {},
     "output_type": "display_data"
    },
    {
     "name": "stdout",
     "output_type": "stream",
     "text": [
      "using cuda:0 device.\n",
      "current root: /workspace\n",
      "data_root: /workspace\n",
      "Using 8 dataloader workers every process\n",
      "using 3306 images for training, 364 images for validation.\n"
     ]
    },
    {
     "name": "stderr",
     "output_type": "stream",
     "text": [
      "train epoch[1/150] loss:1.887: 100%|██████████| 104/104 [00:06<00:00, 15.85it/s]\n",
      " 58%|█████▊    | 7/12 [00:01<00:03,  1.51it/s]"
     ]
    },
    {
     "name": "stdout",
     "output_type": "stream",
     "text": [
      "<class 'torch.Tensor'> torch.Size([32, 5])\n",
      "<class 'torch.Tensor'> 32\n",
      "<class 'torch.Tensor'> torch.Size([32, 5])\n",
      "<class 'torch.Tensor'> 32\n",
      "<class 'torch.Tensor'> torch.Size([32, 5])\n",
      "<class 'torch.Tensor'> 32\n",
      "<class 'torch.Tensor'> torch.Size([32, 5])\n",
      "<class 'torch.Tensor'> 32\n",
      "<class 'torch.Tensor'> torch.Size([32, 5])\n",
      "<class 'torch.Tensor'> 32\n",
      "<class 'torch.Tensor'> torch.Size([32, 5])\n",
      "<class 'torch.Tensor'> 32\n",
      "<class 'torch.Tensor'> torch.Size([32, 5])\n",
      "<class 'torch.Tensor'> 32\n",
      "<class 'torch.Tensor'> torch.Size([32, 5])\n",
      "<class 'torch.Tensor'> 32\n",
      "<class 'torch.Tensor'> torch.Size([32, 5])\n",
      "<class 'torch.Tensor'> 32\n",
      "<class 'torch.Tensor'> torch.Size([32, 5])\n",
      "<class 'torch.Tensor'> 32\n"
     ]
    },
    {
     "name": "stderr",
     "output_type": "stream",
     "text": [
      "100%|██████████| 12/12 [00:01<00:00,  9.63it/s]\n"
     ]
    },
    {
     "name": "stdout",
     "output_type": "stream",
     "text": [
      "<class 'torch.Tensor'> torch.Size([32, 5])\n",
      "<class 'torch.Tensor'> 32\n",
      "<class 'torch.Tensor'> torch.Size([12, 5])\n",
      "<class 'torch.Tensor'> 12\n",
      "[epoch 1] train_loss: 3.694  val_accuracy: 0.415\n"
     ]
    },
    {
     "name": "stderr",
     "output_type": "stream",
     "text": [
      "train epoch[2/150] loss:1.438: 100%|██████████| 104/104 [00:06<00:00, 16.07it/s]\n",
      "100%|██████████| 12/12 [00:01<00:00,  9.15it/s]\n",
      "  0%|          | 0/104 [00:00<?, ?it/s]"
     ]
    },
    {
     "name": "stdout",
     "output_type": "stream",
     "text": [
      "[epoch 2] train_loss: 1.808  val_accuracy: 0.604\n"
     ]
    },
    {
     "name": "stderr",
     "output_type": "stream",
     "text": [
      "train epoch[3/150] loss:1.526: 100%|██████████| 104/104 [00:06<00:00, 15.85it/s]\n",
      "100%|██████████| 12/12 [00:01<00:00,  9.55it/s]\n",
      "  0%|          | 0/104 [00:00<?, ?it/s]"
     ]
    },
    {
     "name": "stdout",
     "output_type": "stream",
     "text": [
      "[epoch 3] train_loss: 1.609  val_accuracy: 0.662\n"
     ]
    },
    {
     "name": "stderr",
     "output_type": "stream",
     "text": [
      "train epoch[4/150] loss:1.782: 100%|██████████| 104/104 [00:06<00:00, 15.24it/s]\n",
      "100%|██████████| 12/12 [00:01<00:00,  9.40it/s]\n",
      "  0%|          | 0/104 [00:00<?, ?it/s]"
     ]
    },
    {
     "name": "stdout",
     "output_type": "stream",
     "text": [
      "[epoch 4] train_loss: 1.541  val_accuracy: 0.621\n"
     ]
    },
    {
     "name": "stderr",
     "output_type": "stream",
     "text": [
      "train epoch[5/150] loss:1.566: 100%|██████████| 104/104 [00:07<00:00, 14.17it/s]\n",
      "100%|██████████| 12/12 [00:01<00:00,  9.44it/s]\n",
      "  0%|          | 0/104 [00:00<?, ?it/s]"
     ]
    },
    {
     "name": "stdout",
     "output_type": "stream",
     "text": [
      "[epoch 5] train_loss: 1.452  val_accuracy: 0.665\n"
     ]
    },
    {
     "name": "stderr",
     "output_type": "stream",
     "text": [
      "train epoch[6/150] loss:1.221: 100%|██████████| 104/104 [00:06<00:00, 15.24it/s]\n",
      "100%|██████████| 12/12 [00:01<00:00,  9.17it/s]\n",
      "  0%|          | 0/104 [00:00<?, ?it/s]"
     ]
    },
    {
     "name": "stdout",
     "output_type": "stream",
     "text": [
      "[epoch 6] train_loss: 1.395  val_accuracy: 0.673\n"
     ]
    },
    {
     "name": "stderr",
     "output_type": "stream",
     "text": [
      "train epoch[7/150] loss:0.851: 100%|██████████| 104/104 [00:06<00:00, 15.09it/s]\n",
      "100%|██████████| 12/12 [00:01<00:00,  9.79it/s]\n",
      "  0%|          | 0/104 [00:00<?, ?it/s]"
     ]
    },
    {
     "name": "stdout",
     "output_type": "stream",
     "text": [
      "[epoch 7] train_loss: 1.367  val_accuracy: 0.698\n"
     ]
    },
    {
     "name": "stderr",
     "output_type": "stream",
     "text": [
      "train epoch[8/150] loss:0.777: 100%|██████████| 104/104 [00:06<00:00, 15.06it/s]\n",
      "100%|██████████| 12/12 [00:01<00:00,  9.34it/s]\n",
      "  0%|          | 0/104 [00:00<?, ?it/s]"
     ]
    },
    {
     "name": "stdout",
     "output_type": "stream",
     "text": [
      "[epoch 8] train_loss: 1.292  val_accuracy: 0.725\n"
     ]
    },
    {
     "name": "stderr",
     "output_type": "stream",
     "text": [
      "train epoch[9/150] loss:1.499: 100%|██████████| 104/104 [00:06<00:00, 15.08it/s]\n",
      "100%|██████████| 12/12 [00:01<00:00,  9.54it/s]\n",
      "  0%|          | 0/104 [00:00<?, ?it/s]"
     ]
    },
    {
     "name": "stdout",
     "output_type": "stream",
     "text": [
      "[epoch 9] train_loss: 1.314  val_accuracy: 0.709\n"
     ]
    },
    {
     "name": "stderr",
     "output_type": "stream",
     "text": [
      "train epoch[10/150] loss:1.901: 100%|██████████| 104/104 [00:06<00:00, 15.05it/s]\n",
      "100%|██████████| 12/12 [00:01<00:00,  9.34it/s]\n",
      "  0%|          | 0/104 [00:00<?, ?it/s]"
     ]
    },
    {
     "name": "stdout",
     "output_type": "stream",
     "text": [
      "[epoch 10] train_loss: 1.249  val_accuracy: 0.657\n"
     ]
    },
    {
     "name": "stderr",
     "output_type": "stream",
     "text": [
      "train epoch[11/150] loss:0.890: 100%|██████████| 104/104 [00:06<00:00, 15.39it/s]\n",
      "100%|██████████| 12/12 [00:01<00:00,  9.17it/s]\n",
      "  0%|          | 0/104 [00:00<?, ?it/s]"
     ]
    },
    {
     "name": "stdout",
     "output_type": "stream",
     "text": [
      "[epoch 11] train_loss: 1.230  val_accuracy: 0.701\n"
     ]
    },
    {
     "name": "stderr",
     "output_type": "stream",
     "text": [
      "train epoch[12/150] loss:1.169: 100%|██████████| 104/104 [00:06<00:00, 14.88it/s]\n",
      "100%|██████████| 12/12 [00:01<00:00,  9.70it/s]\n",
      "  0%|          | 0/104 [00:00<?, ?it/s]"
     ]
    },
    {
     "name": "stdout",
     "output_type": "stream",
     "text": [
      "[epoch 12] train_loss: 1.210  val_accuracy: 0.753\n"
     ]
    },
    {
     "name": "stderr",
     "output_type": "stream",
     "text": [
      "train epoch[13/150] loss:1.069: 100%|██████████| 104/104 [00:06<00:00, 15.30it/s]\n",
      "100%|██████████| 12/12 [00:01<00:00,  9.57it/s]\n",
      "  0%|          | 0/104 [00:00<?, ?it/s]"
     ]
    },
    {
     "name": "stdout",
     "output_type": "stream",
     "text": [
      "[epoch 13] train_loss: 1.171  val_accuracy: 0.731\n"
     ]
    },
    {
     "name": "stderr",
     "output_type": "stream",
     "text": [
      "train epoch[14/150] loss:0.415: 100%|██████████| 104/104 [00:06<00:00, 15.28it/s]\n",
      "100%|██████████| 12/12 [00:01<00:00,  9.69it/s]\n",
      "  0%|          | 0/104 [00:00<?, ?it/s]"
     ]
    },
    {
     "name": "stdout",
     "output_type": "stream",
     "text": [
      "[epoch 14] train_loss: 1.104  val_accuracy: 0.736\n"
     ]
    },
    {
     "name": "stderr",
     "output_type": "stream",
     "text": [
      "train epoch[15/150] loss:1.319: 100%|██████████| 104/104 [00:06<00:00, 15.12it/s]\n",
      "100%|██████████| 12/12 [00:01<00:00,  9.61it/s]\n",
      "  0%|          | 0/104 [00:00<?, ?it/s]"
     ]
    },
    {
     "name": "stdout",
     "output_type": "stream",
     "text": [
      "[epoch 15] train_loss: 1.148  val_accuracy: 0.750\n"
     ]
    },
    {
     "name": "stderr",
     "output_type": "stream",
     "text": [
      "train epoch[16/150] loss:0.568: 100%|██████████| 104/104 [00:06<00:00, 15.20it/s]\n",
      "100%|██████████| 12/12 [00:01<00:00,  9.76it/s]\n",
      "  0%|          | 0/104 [00:00<?, ?it/s]"
     ]
    },
    {
     "name": "stdout",
     "output_type": "stream",
     "text": [
      "[epoch 16] train_loss: 1.156  val_accuracy: 0.780\n"
     ]
    },
    {
     "name": "stderr",
     "output_type": "stream",
     "text": [
      "train epoch[17/150] loss:1.076: 100%|██████████| 104/104 [00:06<00:00, 15.14it/s]\n",
      "100%|██████████| 12/12 [00:01<00:00,  9.75it/s]\n",
      "  0%|          | 0/104 [00:00<?, ?it/s]"
     ]
    },
    {
     "name": "stdout",
     "output_type": "stream",
     "text": [
      "[epoch 17] train_loss: 1.067  val_accuracy: 0.753\n"
     ]
    },
    {
     "name": "stderr",
     "output_type": "stream",
     "text": [
      "train epoch[18/150] loss:0.519: 100%|██████████| 104/104 [00:07<00:00, 14.76it/s]\n",
      "100%|██████████| 12/12 [00:01<00:00,  9.55it/s]\n"
     ]
    },
    {
     "name": "stdout",
     "output_type": "stream",
     "text": [
      "[epoch 18] train_loss: 1.015  val_accuracy: 0.786\n"
     ]
    },
    {
     "name": "stderr",
     "output_type": "stream",
     "text": [
      "train epoch[19/150] loss:2.050: 100%|██████████| 104/104 [00:06<00:00, 15.08it/s]\n",
      "100%|██████████| 12/12 [00:01<00:00,  9.15it/s]\n",
      "  0%|          | 0/104 [00:00<?, ?it/s]"
     ]
    },
    {
     "name": "stdout",
     "output_type": "stream",
     "text": [
      "[epoch 19] train_loss: 1.041  val_accuracy: 0.783\n"
     ]
    },
    {
     "name": "stderr",
     "output_type": "stream",
     "text": [
      "train epoch[20/150] loss:1.546: 100%|██████████| 104/104 [00:06<00:00, 15.33it/s]\n",
      "100%|██████████| 12/12 [00:01<00:00,  9.46it/s]\n",
      "  0%|          | 0/104 [00:00<?, ?it/s]"
     ]
    },
    {
     "name": "stdout",
     "output_type": "stream",
     "text": [
      "[epoch 20] train_loss: 1.040  val_accuracy: 0.786\n"
     ]
    },
    {
     "name": "stderr",
     "output_type": "stream",
     "text": [
      "train epoch[21/150] loss:1.137: 100%|██████████| 104/104 [00:06<00:00, 15.13it/s]\n",
      "100%|██████████| 12/12 [00:01<00:00,  9.69it/s]\n",
      "  0%|          | 0/104 [00:00<?, ?it/s]"
     ]
    },
    {
     "name": "stdout",
     "output_type": "stream",
     "text": [
      "[epoch 21] train_loss: 0.993  val_accuracy: 0.761\n"
     ]
    },
    {
     "name": "stderr",
     "output_type": "stream",
     "text": [
      "train epoch[22/150] loss:0.796: 100%|██████████| 104/104 [00:07<00:00, 14.83it/s]\n",
      "100%|██████████| 12/12 [00:01<00:00,  9.50it/s]\n",
      "  0%|          | 0/104 [00:00<?, ?it/s]"
     ]
    },
    {
     "name": "stdout",
     "output_type": "stream",
     "text": [
      "[epoch 22] train_loss: 0.965  val_accuracy: 0.799\n"
     ]
    },
    {
     "name": "stderr",
     "output_type": "stream",
     "text": [
      "train epoch[23/150] loss:1.202: 100%|██████████| 104/104 [00:06<00:00, 15.14it/s]\n",
      "100%|██████████| 12/12 [00:01<00:00,  9.70it/s]\n",
      "  0%|          | 0/104 [00:00<?, ?it/s]"
     ]
    },
    {
     "name": "stdout",
     "output_type": "stream",
     "text": [
      "[epoch 23] train_loss: 0.936  val_accuracy: 0.745\n"
     ]
    },
    {
     "name": "stderr",
     "output_type": "stream",
     "text": [
      "train epoch[24/150] loss:1.339: 100%|██████████| 104/104 [00:06<00:00, 15.11it/s]\n",
      "100%|██████████| 12/12 [00:01<00:00,  9.63it/s]\n",
      "  0%|          | 0/104 [00:00<?, ?it/s]"
     ]
    },
    {
     "name": "stdout",
     "output_type": "stream",
     "text": [
      "[epoch 24] train_loss: 0.938  val_accuracy: 0.714\n"
     ]
    },
    {
     "name": "stderr",
     "output_type": "stream",
     "text": [
      "train epoch[25/150] loss:0.953: 100%|██████████| 104/104 [00:06<00:00, 15.08it/s]\n",
      "100%|██████████| 12/12 [00:01<00:00,  9.56it/s]\n",
      "  0%|          | 0/104 [00:00<?, ?it/s]"
     ]
    },
    {
     "name": "stdout",
     "output_type": "stream",
     "text": [
      "[epoch 25] train_loss: 0.864  val_accuracy: 0.794\n"
     ]
    },
    {
     "name": "stderr",
     "output_type": "stream",
     "text": [
      "train epoch[26/150] loss:1.686: 100%|██████████| 104/104 [00:06<00:00, 15.03it/s]\n",
      "100%|██████████| 12/12 [00:01<00:00,  9.51it/s]\n",
      "  0%|          | 0/104 [00:00<?, ?it/s]"
     ]
    },
    {
     "name": "stdout",
     "output_type": "stream",
     "text": [
      "[epoch 26] train_loss: 0.912  val_accuracy: 0.816\n"
     ]
    },
    {
     "name": "stderr",
     "output_type": "stream",
     "text": [
      "train epoch[27/150] loss:1.622: 100%|██████████| 104/104 [00:06<00:00, 15.09it/s]\n",
      "100%|██████████| 12/12 [00:01<00:00,  9.64it/s]\n",
      "  0%|          | 0/104 [00:00<?, ?it/s]"
     ]
    },
    {
     "name": "stdout",
     "output_type": "stream",
     "text": [
      "[epoch 27] train_loss: 0.909  val_accuracy: 0.780\n"
     ]
    },
    {
     "name": "stderr",
     "output_type": "stream",
     "text": [
      "train epoch[28/150] loss:0.237: 100%|██████████| 104/104 [00:06<00:00, 15.30it/s]\n",
      "100%|██████████| 12/12 [00:01<00:00,  9.72it/s]\n",
      "  0%|          | 0/104 [00:00<?, ?it/s]"
     ]
    },
    {
     "name": "stdout",
     "output_type": "stream",
     "text": [
      "[epoch 28] train_loss: 0.853  val_accuracy: 0.766\n"
     ]
    },
    {
     "name": "stderr",
     "output_type": "stream",
     "text": [
      "train epoch[29/150] loss:0.119: 100%|██████████| 104/104 [00:06<00:00, 15.07it/s]\n",
      "100%|██████████| 12/12 [00:01<00:00,  9.68it/s]\n",
      "  0%|          | 0/104 [00:00<?, ?it/s]"
     ]
    },
    {
     "name": "stdout",
     "output_type": "stream",
     "text": [
      "[epoch 29] train_loss: 0.843  val_accuracy: 0.802\n"
     ]
    },
    {
     "name": "stderr",
     "output_type": "stream",
     "text": [
      "train epoch[30/150] loss:0.693: 100%|██████████| 104/104 [00:06<00:00, 15.19it/s]\n",
      "100%|██████████| 12/12 [00:01<00:00,  9.35it/s]\n",
      "  0%|          | 0/104 [00:00<?, ?it/s]"
     ]
    },
    {
     "name": "stdout",
     "output_type": "stream",
     "text": [
      "[epoch 30] train_loss: 0.824  val_accuracy: 0.797\n"
     ]
    },
    {
     "name": "stderr",
     "output_type": "stream",
     "text": [
      "train epoch[31/150] loss:0.691: 100%|██████████| 104/104 [00:06<00:00, 15.06it/s]\n",
      "100%|██████████| 12/12 [00:01<00:00,  9.72it/s]\n",
      "  0%|          | 0/104 [00:00<?, ?it/s]"
     ]
    },
    {
     "name": "stdout",
     "output_type": "stream",
     "text": [
      "[epoch 31] train_loss: 0.856  val_accuracy: 0.794\n"
     ]
    },
    {
     "name": "stderr",
     "output_type": "stream",
     "text": [
      "train epoch[32/150] loss:0.851: 100%|██████████| 104/104 [00:06<00:00, 15.16it/s]\n",
      "100%|██████████| 12/12 [00:01<00:00,  9.35it/s]\n",
      "  0%|          | 0/104 [00:00<?, ?it/s]"
     ]
    },
    {
     "name": "stdout",
     "output_type": "stream",
     "text": [
      "[epoch 32] train_loss: 0.800  val_accuracy: 0.816\n"
     ]
    },
    {
     "name": "stderr",
     "output_type": "stream",
     "text": [
      "train epoch[33/150] loss:2.312: 100%|██████████| 104/104 [00:06<00:00, 15.19it/s]\n",
      "100%|██████████| 12/12 [00:01<00:00,  9.64it/s]\n",
      "  0%|          | 0/104 [00:00<?, ?it/s]"
     ]
    },
    {
     "name": "stdout",
     "output_type": "stream",
     "text": [
      "[epoch 33] train_loss: 0.800  val_accuracy: 0.786\n"
     ]
    },
    {
     "name": "stderr",
     "output_type": "stream",
     "text": [
      "train epoch[34/150] loss:0.543: 100%|██████████| 104/104 [00:06<00:00, 15.31it/s]\n",
      "100%|██████████| 12/12 [00:01<00:00,  9.36it/s]\n",
      "  0%|          | 0/104 [00:00<?, ?it/s]"
     ]
    },
    {
     "name": "stdout",
     "output_type": "stream",
     "text": [
      "[epoch 34] train_loss: 0.787  val_accuracy: 0.780\n"
     ]
    },
    {
     "name": "stderr",
     "output_type": "stream",
     "text": [
      "train epoch[35/150] loss:0.262: 100%|██████████| 104/104 [00:06<00:00, 15.13it/s]\n",
      "100%|██████████| 12/12 [00:01<00:00,  9.46it/s]\n",
      "  0%|          | 0/104 [00:00<?, ?it/s]"
     ]
    },
    {
     "name": "stdout",
     "output_type": "stream",
     "text": [
      "[epoch 35] train_loss: 0.770  val_accuracy: 0.802\n"
     ]
    },
    {
     "name": "stderr",
     "output_type": "stream",
     "text": [
      "train epoch[36/150] loss:1.039: 100%|██████████| 104/104 [00:06<00:00, 15.25it/s]\n",
      "100%|██████████| 12/12 [00:01<00:00,  9.58it/s]\n",
      "  0%|          | 0/104 [00:00<?, ?it/s]"
     ]
    },
    {
     "name": "stdout",
     "output_type": "stream",
     "text": [
      "[epoch 36] train_loss: 0.781  val_accuracy: 0.788\n"
     ]
    },
    {
     "name": "stderr",
     "output_type": "stream",
     "text": [
      "train epoch[37/150] loss:1.537: 100%|██████████| 104/104 [00:06<00:00, 15.10it/s]\n",
      "100%|██████████| 12/12 [00:01<00:00,  9.57it/s]\n",
      "  0%|          | 0/104 [00:00<?, ?it/s]"
     ]
    },
    {
     "name": "stdout",
     "output_type": "stream",
     "text": [
      "[epoch 37] train_loss: 0.795  val_accuracy: 0.808\n"
     ]
    },
    {
     "name": "stderr",
     "output_type": "stream",
     "text": [
      "train epoch[38/150] loss:0.495: 100%|██████████| 104/104 [00:06<00:00, 15.39it/s]\n",
      "100%|██████████| 12/12 [00:01<00:00,  9.29it/s]\n",
      "  0%|          | 0/104 [00:00<?, ?it/s]"
     ]
    },
    {
     "name": "stdout",
     "output_type": "stream",
     "text": [
      "[epoch 38] train_loss: 0.690  val_accuracy: 0.821\n"
     ]
    },
    {
     "name": "stderr",
     "output_type": "stream",
     "text": [
      "train epoch[39/150] loss:0.432: 100%|██████████| 104/104 [00:06<00:00, 15.17it/s]\n",
      "100%|██████████| 12/12 [00:01<00:00,  9.63it/s]\n",
      "  0%|          | 0/104 [00:00<?, ?it/s]"
     ]
    },
    {
     "name": "stdout",
     "output_type": "stream",
     "text": [
      "[epoch 39] train_loss: 0.744  val_accuracy: 0.786\n"
     ]
    },
    {
     "name": "stderr",
     "output_type": "stream",
     "text": [
      "train epoch[40/150] loss:0.608: 100%|██████████| 104/104 [00:06<00:00, 15.28it/s]\n",
      "100%|██████████| 12/12 [00:01<00:00,  9.57it/s]\n",
      "  0%|          | 0/104 [00:00<?, ?it/s]"
     ]
    },
    {
     "name": "stdout",
     "output_type": "stream",
     "text": [
      "[epoch 40] train_loss: 0.707  val_accuracy: 0.802\n"
     ]
    },
    {
     "name": "stderr",
     "output_type": "stream",
     "text": [
      "train epoch[41/150] loss:0.481: 100%|██████████| 104/104 [00:06<00:00, 15.35it/s]\n",
      "100%|██████████| 12/12 [00:01<00:00,  9.36it/s]\n",
      "  0%|          | 0/104 [00:00<?, ?it/s]"
     ]
    },
    {
     "name": "stdout",
     "output_type": "stream",
     "text": [
      "[epoch 41] train_loss: 0.733  val_accuracy: 0.799\n"
     ]
    },
    {
     "name": "stderr",
     "output_type": "stream",
     "text": [
      "train epoch[42/150] loss:1.391: 100%|██████████| 104/104 [00:06<00:00, 15.28it/s]\n",
      "100%|██████████| 12/12 [00:01<00:00,  9.44it/s]\n",
      "  0%|          | 0/104 [00:00<?, ?it/s]"
     ]
    },
    {
     "name": "stdout",
     "output_type": "stream",
     "text": [
      "[epoch 42] train_loss: 0.681  val_accuracy: 0.794\n"
     ]
    },
    {
     "name": "stderr",
     "output_type": "stream",
     "text": [
      "train epoch[43/150] loss:0.976: 100%|██████████| 104/104 [00:06<00:00, 15.04it/s]\n",
      "100%|██████████| 12/12 [00:01<00:00,  9.41it/s]\n",
      "  0%|          | 0/104 [00:00<?, ?it/s]"
     ]
    },
    {
     "name": "stdout",
     "output_type": "stream",
     "text": [
      "[epoch 43] train_loss: 0.698  val_accuracy: 0.791\n"
     ]
    },
    {
     "name": "stderr",
     "output_type": "stream",
     "text": [
      "train epoch[44/150] loss:0.527: 100%|██████████| 104/104 [00:06<00:00, 15.36it/s]\n",
      "100%|██████████| 12/12 [00:01<00:00,  9.25it/s]\n",
      "  0%|          | 0/104 [00:00<?, ?it/s]"
     ]
    },
    {
     "name": "stdout",
     "output_type": "stream",
     "text": [
      "[epoch 44] train_loss: 0.690  val_accuracy: 0.819\n"
     ]
    },
    {
     "name": "stderr",
     "output_type": "stream",
     "text": [
      "train epoch[45/150] loss:1.392: 100%|██████████| 104/104 [00:06<00:00, 15.16it/s]\n",
      "100%|██████████| 12/12 [00:01<00:00,  9.87it/s]\n",
      "  0%|          | 0/104 [00:00<?, ?it/s]"
     ]
    },
    {
     "name": "stdout",
     "output_type": "stream",
     "text": [
      "[epoch 45] train_loss: 0.657  val_accuracy: 0.835\n"
     ]
    },
    {
     "name": "stderr",
     "output_type": "stream",
     "text": [
      "train epoch[46/150] loss:0.300: 100%|██████████| 104/104 [00:06<00:00, 15.06it/s]\n",
      "100%|██████████| 12/12 [00:01<00:00,  9.38it/s]\n",
      "  0%|          | 0/104 [00:00<?, ?it/s]"
     ]
    },
    {
     "name": "stdout",
     "output_type": "stream",
     "text": [
      "[epoch 46] train_loss: 0.665  val_accuracy: 0.827\n"
     ]
    },
    {
     "name": "stderr",
     "output_type": "stream",
     "text": [
      "train epoch[47/150] loss:0.801: 100%|██████████| 104/104 [00:06<00:00, 15.51it/s]\n",
      "100%|██████████| 12/12 [00:01<00:00,  9.12it/s]\n",
      "  0%|          | 0/104 [00:00<?, ?it/s]"
     ]
    },
    {
     "name": "stdout",
     "output_type": "stream",
     "text": [
      "[epoch 47] train_loss: 0.648  val_accuracy: 0.830\n"
     ]
    },
    {
     "name": "stderr",
     "output_type": "stream",
     "text": [
      "train epoch[48/150] loss:0.151: 100%|██████████| 104/104 [00:06<00:00, 15.01it/s]\n",
      "100%|██████████| 12/12 [00:01<00:00,  9.42it/s]\n",
      "  0%|          | 0/104 [00:00<?, ?it/s]"
     ]
    },
    {
     "name": "stdout",
     "output_type": "stream",
     "text": [
      "[epoch 48] train_loss: 0.639  val_accuracy: 0.758\n"
     ]
    },
    {
     "name": "stderr",
     "output_type": "stream",
     "text": [
      "train epoch[49/150] loss:0.633: 100%|██████████| 104/104 [00:06<00:00, 15.34it/s]\n",
      "100%|██████████| 12/12 [00:01<00:00,  9.61it/s]\n",
      "  0%|          | 0/104 [00:00<?, ?it/s]"
     ]
    },
    {
     "name": "stdout",
     "output_type": "stream",
     "text": [
      "[epoch 49] train_loss: 0.637  val_accuracy: 0.791\n"
     ]
    },
    {
     "name": "stderr",
     "output_type": "stream",
     "text": [
      "train epoch[50/150] loss:0.616: 100%|██████████| 104/104 [00:06<00:00, 15.37it/s]\n",
      "100%|██████████| 12/12 [00:01<00:00,  9.72it/s]\n",
      "  0%|          | 0/104 [00:00<?, ?it/s]"
     ]
    },
    {
     "name": "stdout",
     "output_type": "stream",
     "text": [
      "[epoch 50] train_loss: 0.571  val_accuracy: 0.816\n"
     ]
    },
    {
     "name": "stderr",
     "output_type": "stream",
     "text": [
      "train epoch[51/150] loss:0.800: 100%|██████████| 104/104 [00:06<00:00, 15.21it/s]\n",
      "100%|██████████| 12/12 [00:01<00:00,  9.57it/s]\n",
      "  0%|          | 0/104 [00:00<?, ?it/s]"
     ]
    },
    {
     "name": "stdout",
     "output_type": "stream",
     "text": [
      "[epoch 51] train_loss: 0.632  val_accuracy: 0.780\n"
     ]
    },
    {
     "name": "stderr",
     "output_type": "stream",
     "text": [
      "train epoch[52/150] loss:0.380: 100%|██████████| 104/104 [00:06<00:00, 15.18it/s]\n",
      "100%|██████████| 12/12 [00:01<00:00,  9.23it/s]\n",
      "  0%|          | 0/104 [00:00<?, ?it/s]"
     ]
    },
    {
     "name": "stdout",
     "output_type": "stream",
     "text": [
      "[epoch 52] train_loss: 0.612  val_accuracy: 0.819\n"
     ]
    },
    {
     "name": "stderr",
     "output_type": "stream",
     "text": [
      "train epoch[53/150] loss:1.101: 100%|██████████| 104/104 [00:06<00:00, 15.52it/s]\n",
      "100%|██████████| 12/12 [00:01<00:00,  9.45it/s]\n",
      "  0%|          | 0/104 [00:00<?, ?it/s]"
     ]
    },
    {
     "name": "stdout",
     "output_type": "stream",
     "text": [
      "[epoch 53] train_loss: 0.629  val_accuracy: 0.788\n"
     ]
    },
    {
     "name": "stderr",
     "output_type": "stream",
     "text": [
      "train epoch[54/150] loss:1.546: 100%|██████████| 104/104 [00:06<00:00, 15.14it/s]\n",
      "100%|██████████| 12/12 [00:01<00:00,  9.92it/s]\n",
      "  0%|          | 0/104 [00:00<?, ?it/s]"
     ]
    },
    {
     "name": "stdout",
     "output_type": "stream",
     "text": [
      "[epoch 54] train_loss: 0.619  val_accuracy: 0.821\n"
     ]
    },
    {
     "name": "stderr",
     "output_type": "stream",
     "text": [
      "train epoch[55/150] loss:0.447: 100%|██████████| 104/104 [00:06<00:00, 15.73it/s]\n",
      "100%|██████████| 12/12 [00:01<00:00,  9.29it/s]\n",
      "  0%|          | 0/104 [00:00<?, ?it/s]"
     ]
    },
    {
     "name": "stdout",
     "output_type": "stream",
     "text": [
      "[epoch 55] train_loss: 0.588  val_accuracy: 0.788\n"
     ]
    },
    {
     "name": "stderr",
     "output_type": "stream",
     "text": [
      "train epoch[56/150] loss:0.314: 100%|██████████| 104/104 [00:06<00:00, 16.17it/s]\n",
      "100%|██████████| 12/12 [00:01<00:00,  9.40it/s]\n",
      "  0%|          | 0/104 [00:00<?, ?it/s]"
     ]
    },
    {
     "name": "stdout",
     "output_type": "stream",
     "text": [
      "[epoch 56] train_loss: 0.565  val_accuracy: 0.797\n"
     ]
    },
    {
     "name": "stderr",
     "output_type": "stream",
     "text": [
      "train epoch[57/150] loss:0.404: 100%|██████████| 104/104 [00:06<00:00, 15.84it/s]\n",
      "100%|██████████| 12/12 [00:01<00:00,  9.72it/s]\n",
      "  0%|          | 0/104 [00:00<?, ?it/s]"
     ]
    },
    {
     "name": "stdout",
     "output_type": "stream",
     "text": [
      "[epoch 57] train_loss: 0.597  val_accuracy: 0.824\n"
     ]
    },
    {
     "name": "stderr",
     "output_type": "stream",
     "text": [
      "train epoch[58/150] loss:0.084: 100%|██████████| 104/104 [00:06<00:00, 15.74it/s]\n",
      "100%|██████████| 12/12 [00:01<00:00,  9.57it/s]\n",
      "  0%|          | 0/104 [00:00<?, ?it/s]"
     ]
    },
    {
     "name": "stdout",
     "output_type": "stream",
     "text": [
      "[epoch 58] train_loss: 0.558  val_accuracy: 0.816\n"
     ]
    },
    {
     "name": "stderr",
     "output_type": "stream",
     "text": [
      "train epoch[59/150] loss:0.833: 100%|██████████| 104/104 [00:06<00:00, 15.79it/s]\n",
      "100%|██████████| 12/12 [00:01<00:00,  9.70it/s]\n",
      "  0%|          | 0/104 [00:00<?, ?it/s]"
     ]
    },
    {
     "name": "stdout",
     "output_type": "stream",
     "text": [
      "[epoch 59] train_loss: 0.576  val_accuracy: 0.783\n"
     ]
    },
    {
     "name": "stderr",
     "output_type": "stream",
     "text": [
      "train epoch[60/150] loss:0.659: 100%|██████████| 104/104 [00:06<00:00, 15.68it/s]\n",
      "100%|██████████| 12/12 [00:01<00:00,  9.52it/s]\n",
      "  0%|          | 0/104 [00:00<?, ?it/s]"
     ]
    },
    {
     "name": "stdout",
     "output_type": "stream",
     "text": [
      "[epoch 60] train_loss: 0.586  val_accuracy: 0.813\n"
     ]
    },
    {
     "name": "stderr",
     "output_type": "stream",
     "text": [
      "train epoch[61/150] loss:0.740: 100%|██████████| 104/104 [00:06<00:00, 14.87it/s]\n",
      "100%|██████████| 12/12 [00:01<00:00,  9.36it/s]\n",
      "  0%|          | 0/104 [00:00<?, ?it/s]"
     ]
    },
    {
     "name": "stdout",
     "output_type": "stream",
     "text": [
      "[epoch 61] train_loss: 0.535  val_accuracy: 0.824\n"
     ]
    },
    {
     "name": "stderr",
     "output_type": "stream",
     "text": [
      "train epoch[62/150] loss:0.329: 100%|██████████| 104/104 [00:07<00:00, 14.52it/s]\n",
      "100%|██████████| 12/12 [00:01<00:00,  9.63it/s]\n",
      "  0%|          | 0/104 [00:00<?, ?it/s]"
     ]
    },
    {
     "name": "stdout",
     "output_type": "stream",
     "text": [
      "[epoch 62] train_loss: 0.555  val_accuracy: 0.813\n"
     ]
    },
    {
     "name": "stderr",
     "output_type": "stream",
     "text": [
      "train epoch[63/150] loss:1.169: 100%|██████████| 104/104 [00:06<00:00, 15.03it/s]\n",
      "100%|██████████| 12/12 [00:01<00:00,  9.53it/s]\n",
      "  0%|          | 0/104 [00:00<?, ?it/s]"
     ]
    },
    {
     "name": "stdout",
     "output_type": "stream",
     "text": [
      "[epoch 63] train_loss: 0.558  val_accuracy: 0.841\n"
     ]
    },
    {
     "name": "stderr",
     "output_type": "stream",
     "text": [
      "train epoch[64/150] loss:0.970: 100%|██████████| 104/104 [00:06<00:00, 15.39it/s]\n",
      "100%|██████████| 12/12 [00:01<00:00,  9.45it/s]\n",
      "  0%|          | 0/104 [00:00<?, ?it/s]"
     ]
    },
    {
     "name": "stdout",
     "output_type": "stream",
     "text": [
      "[epoch 64] train_loss: 0.498  val_accuracy: 0.824\n"
     ]
    },
    {
     "name": "stderr",
     "output_type": "stream",
     "text": [
      "train epoch[65/150] loss:0.709: 100%|██████████| 104/104 [00:06<00:00, 14.98it/s]\n",
      "100%|██████████| 12/12 [00:01<00:00,  9.67it/s]\n",
      "  0%|          | 0/104 [00:00<?, ?it/s]"
     ]
    },
    {
     "name": "stdout",
     "output_type": "stream",
     "text": [
      "[epoch 65] train_loss: 0.533  val_accuracy: 0.810\n"
     ]
    },
    {
     "name": "stderr",
     "output_type": "stream",
     "text": [
      "train epoch[66/150] loss:1.558: 100%|██████████| 104/104 [00:06<00:00, 15.13it/s]\n",
      "100%|██████████| 12/12 [00:01<00:00,  9.46it/s]\n",
      "  0%|          | 0/104 [00:00<?, ?it/s]"
     ]
    },
    {
     "name": "stdout",
     "output_type": "stream",
     "text": [
      "[epoch 66] train_loss: 0.557  val_accuracy: 0.797\n"
     ]
    },
    {
     "name": "stderr",
     "output_type": "stream",
     "text": [
      "train epoch[67/150] loss:0.154: 100%|██████████| 104/104 [00:06<00:00, 15.39it/s]\n",
      "100%|██████████| 12/12 [00:01<00:00,  9.67it/s]\n",
      "  0%|          | 0/104 [00:00<?, ?it/s]"
     ]
    },
    {
     "name": "stdout",
     "output_type": "stream",
     "text": [
      "[epoch 67] train_loss: 0.517  val_accuracy: 0.791\n"
     ]
    },
    {
     "name": "stderr",
     "output_type": "stream",
     "text": [
      "train epoch[68/150] loss:0.257: 100%|██████████| 104/104 [00:06<00:00, 15.17it/s]\n",
      "100%|██████████| 12/12 [00:01<00:00,  9.67it/s]\n",
      "  0%|          | 0/104 [00:00<?, ?it/s]"
     ]
    },
    {
     "name": "stdout",
     "output_type": "stream",
     "text": [
      "[epoch 68] train_loss: 0.497  val_accuracy: 0.841\n"
     ]
    },
    {
     "name": "stderr",
     "output_type": "stream",
     "text": [
      "train epoch[69/150] loss:0.319: 100%|██████████| 104/104 [00:06<00:00, 15.11it/s]\n",
      "100%|██████████| 12/12 [00:01<00:00,  9.19it/s]\n",
      "  0%|          | 0/104 [00:00<?, ?it/s]"
     ]
    },
    {
     "name": "stdout",
     "output_type": "stream",
     "text": [
      "[epoch 69] train_loss: 0.499  val_accuracy: 0.830\n"
     ]
    },
    {
     "name": "stderr",
     "output_type": "stream",
     "text": [
      "train epoch[70/150] loss:0.606: 100%|██████████| 104/104 [00:06<00:00, 15.17it/s]\n",
      "100%|██████████| 12/12 [00:01<00:00,  9.73it/s]\n",
      "  0%|          | 0/104 [00:00<?, ?it/s]"
     ]
    },
    {
     "name": "stdout",
     "output_type": "stream",
     "text": [
      "[epoch 70] train_loss: 0.553  val_accuracy: 0.819\n"
     ]
    },
    {
     "name": "stderr",
     "output_type": "stream",
     "text": [
      "train epoch[71/150] loss:0.933: 100%|██████████| 104/104 [00:06<00:00, 14.98it/s]\n",
      "100%|██████████| 12/12 [00:01<00:00,  9.63it/s]\n",
      "  0%|          | 0/104 [00:00<?, ?it/s]"
     ]
    },
    {
     "name": "stdout",
     "output_type": "stream",
     "text": [
      "[epoch 71] train_loss: 0.531  val_accuracy: 0.830\n"
     ]
    },
    {
     "name": "stderr",
     "output_type": "stream",
     "text": [
      "train epoch[72/150] loss:0.242: 100%|██████████| 104/104 [00:06<00:00, 14.99it/s]\n",
      "100%|██████████| 12/12 [00:01<00:00,  9.57it/s]\n",
      "  0%|          | 0/104 [00:00<?, ?it/s]"
     ]
    },
    {
     "name": "stdout",
     "output_type": "stream",
     "text": [
      "[epoch 72] train_loss: 0.482  val_accuracy: 0.810\n"
     ]
    },
    {
     "name": "stderr",
     "output_type": "stream",
     "text": [
      "train epoch[73/150] loss:0.304: 100%|██████████| 104/104 [00:06<00:00, 14.92it/s]\n",
      "100%|██████████| 12/12 [00:01<00:00,  9.54it/s]\n",
      "  0%|          | 0/104 [00:00<?, ?it/s]"
     ]
    },
    {
     "name": "stdout",
     "output_type": "stream",
     "text": [
      "[epoch 73] train_loss: 0.477  val_accuracy: 0.805\n"
     ]
    },
    {
     "name": "stderr",
     "output_type": "stream",
     "text": [
      "train epoch[74/150] loss:0.377: 100%|██████████| 104/104 [00:06<00:00, 15.22it/s]\n",
      "100%|██████████| 12/12 [00:01<00:00,  9.92it/s]\n",
      "  0%|          | 0/104 [00:00<?, ?it/s]"
     ]
    },
    {
     "name": "stdout",
     "output_type": "stream",
     "text": [
      "[epoch 74] train_loss: 0.470  val_accuracy: 0.821\n"
     ]
    },
    {
     "name": "stderr",
     "output_type": "stream",
     "text": [
      "train epoch[75/150] loss:1.423: 100%|██████████| 104/104 [00:06<00:00, 15.11it/s]\n",
      "100%|██████████| 12/12 [00:01<00:00,  9.07it/s]\n",
      "  0%|          | 0/104 [00:00<?, ?it/s]"
     ]
    },
    {
     "name": "stdout",
     "output_type": "stream",
     "text": [
      "[epoch 75] train_loss: 0.472  val_accuracy: 0.824\n"
     ]
    },
    {
     "name": "stderr",
     "output_type": "stream",
     "text": [
      "train epoch[76/150] loss:0.372: 100%|██████████| 104/104 [00:06<00:00, 15.18it/s]\n",
      "100%|██████████| 12/12 [00:01<00:00,  9.37it/s]\n",
      "  0%|          | 0/104 [00:00<?, ?it/s]"
     ]
    },
    {
     "name": "stdout",
     "output_type": "stream",
     "text": [
      "[epoch 76] train_loss: 0.494  val_accuracy: 0.838\n"
     ]
    },
    {
     "name": "stderr",
     "output_type": "stream",
     "text": [
      "train epoch[77/150] loss:0.173: 100%|██████████| 104/104 [00:06<00:00, 15.02it/s]\n",
      "100%|██████████| 12/12 [00:01<00:00,  9.66it/s]\n",
      "  0%|          | 0/104 [00:00<?, ?it/s]"
     ]
    },
    {
     "name": "stdout",
     "output_type": "stream",
     "text": [
      "[epoch 77] train_loss: 0.472  val_accuracy: 0.797\n"
     ]
    },
    {
     "name": "stderr",
     "output_type": "stream",
     "text": [
      "train epoch[78/150] loss:1.265: 100%|██████████| 104/104 [00:06<00:00, 14.92it/s]\n",
      "100%|██████████| 12/12 [00:01<00:00,  9.23it/s]\n",
      "  0%|          | 0/104 [00:00<?, ?it/s]"
     ]
    },
    {
     "name": "stdout",
     "output_type": "stream",
     "text": [
      "[epoch 78] train_loss: 0.430  val_accuracy: 0.835\n"
     ]
    },
    {
     "name": "stderr",
     "output_type": "stream",
     "text": [
      "train epoch[79/150] loss:0.093: 100%|██████████| 104/104 [00:06<00:00, 15.40it/s]\n",
      "100%|██████████| 12/12 [00:01<00:00,  9.62it/s]\n",
      "  0%|          | 0/104 [00:00<?, ?it/s]"
     ]
    },
    {
     "name": "stdout",
     "output_type": "stream",
     "text": [
      "[epoch 79] train_loss: 0.488  val_accuracy: 0.835\n"
     ]
    },
    {
     "name": "stderr",
     "output_type": "stream",
     "text": [
      "train epoch[80/150] loss:0.552: 100%|██████████| 104/104 [00:06<00:00, 14.99it/s]\n",
      "100%|██████████| 12/12 [00:01<00:00,  9.69it/s]\n",
      "  0%|          | 0/104 [00:00<?, ?it/s]"
     ]
    },
    {
     "name": "stdout",
     "output_type": "stream",
     "text": [
      "[epoch 80] train_loss: 0.443  val_accuracy: 0.830\n"
     ]
    },
    {
     "name": "stderr",
     "output_type": "stream",
     "text": [
      "train epoch[81/150] loss:0.659: 100%|██████████| 104/104 [00:06<00:00, 15.13it/s]\n",
      "100%|██████████| 12/12 [00:01<00:00,  9.59it/s]\n",
      "  0%|          | 0/104 [00:00<?, ?it/s]"
     ]
    },
    {
     "name": "stdout",
     "output_type": "stream",
     "text": [
      "[epoch 81] train_loss: 0.449  val_accuracy: 0.819\n"
     ]
    },
    {
     "name": "stderr",
     "output_type": "stream",
     "text": [
      "train epoch[82/150] loss:0.374: 100%|██████████| 104/104 [00:06<00:00, 15.23it/s]\n",
      "100%|██████████| 12/12 [00:01<00:00,  9.58it/s]\n",
      "  0%|          | 0/104 [00:00<?, ?it/s]"
     ]
    },
    {
     "name": "stdout",
     "output_type": "stream",
     "text": [
      "[epoch 82] train_loss: 0.458  val_accuracy: 0.786\n"
     ]
    },
    {
     "name": "stderr",
     "output_type": "stream",
     "text": [
      "train epoch[83/150] loss:0.136: 100%|██████████| 104/104 [00:06<00:00, 15.31it/s]\n",
      "100%|██████████| 12/12 [00:01<00:00,  9.65it/s]\n",
      "  0%|          | 0/104 [00:00<?, ?it/s]"
     ]
    },
    {
     "name": "stdout",
     "output_type": "stream",
     "text": [
      "[epoch 83] train_loss: 0.443  val_accuracy: 0.816\n"
     ]
    },
    {
     "name": "stderr",
     "output_type": "stream",
     "text": [
      "train epoch[84/150] loss:1.281: 100%|██████████| 104/104 [00:07<00:00, 14.73it/s]\n",
      "100%|██████████| 12/12 [00:01<00:00,  9.90it/s]\n",
      "  0%|          | 0/104 [00:00<?, ?it/s]"
     ]
    },
    {
     "name": "stdout",
     "output_type": "stream",
     "text": [
      "[epoch 84] train_loss: 0.447  val_accuracy: 0.824\n"
     ]
    },
    {
     "name": "stderr",
     "output_type": "stream",
     "text": [
      "train epoch[85/150] loss:1.588: 100%|██████████| 104/104 [00:06<00:00, 15.29it/s]\n",
      "100%|██████████| 12/12 [00:01<00:00,  9.71it/s]\n",
      "  0%|          | 0/104 [00:00<?, ?it/s]"
     ]
    },
    {
     "name": "stdout",
     "output_type": "stream",
     "text": [
      "[epoch 85] train_loss: 0.495  val_accuracy: 0.843\n"
     ]
    },
    {
     "name": "stderr",
     "output_type": "stream",
     "text": [
      "train epoch[86/150] loss:0.223: 100%|██████████| 104/104 [00:06<00:00, 15.15it/s]\n",
      "100%|██████████| 12/12 [00:01<00:00,  9.56it/s]\n",
      "  0%|          | 0/104 [00:00<?, ?it/s]"
     ]
    },
    {
     "name": "stdout",
     "output_type": "stream",
     "text": [
      "[epoch 86] train_loss: 0.488  val_accuracy: 0.808\n"
     ]
    },
    {
     "name": "stderr",
     "output_type": "stream",
     "text": [
      "train epoch[87/150] loss:0.184: 100%|██████████| 104/104 [00:06<00:00, 15.05it/s]\n",
      "100%|██████████| 12/12 [00:01<00:00,  9.74it/s]\n",
      "  0%|          | 0/104 [00:00<?, ?it/s]"
     ]
    },
    {
     "name": "stdout",
     "output_type": "stream",
     "text": [
      "[epoch 87] train_loss: 0.415  val_accuracy: 0.808\n"
     ]
    },
    {
     "name": "stderr",
     "output_type": "stream",
     "text": [
      "train epoch[88/150] loss:0.388: 100%|██████████| 104/104 [00:06<00:00, 15.29it/s]\n",
      "100%|██████████| 12/12 [00:01<00:00, 10.00it/s]\n",
      "  0%|          | 0/104 [00:00<?, ?it/s]"
     ]
    },
    {
     "name": "stdout",
     "output_type": "stream",
     "text": [
      "[epoch 88] train_loss: 0.398  val_accuracy: 0.816\n"
     ]
    },
    {
     "name": "stderr",
     "output_type": "stream",
     "text": [
      "train epoch[89/150] loss:0.141: 100%|██████████| 104/104 [00:06<00:00, 15.35it/s]\n",
      "100%|██████████| 12/12 [00:01<00:00,  9.56it/s]\n",
      "  0%|          | 0/104 [00:00<?, ?it/s]"
     ]
    },
    {
     "name": "stdout",
     "output_type": "stream",
     "text": [
      "[epoch 89] train_loss: 0.386  val_accuracy: 0.832\n"
     ]
    },
    {
     "name": "stderr",
     "output_type": "stream",
     "text": [
      "train epoch[90/150] loss:0.227: 100%|██████████| 104/104 [00:06<00:00, 15.10it/s]\n",
      "100%|██████████| 12/12 [00:01<00:00,  9.55it/s]\n",
      "  0%|          | 0/104 [00:00<?, ?it/s]"
     ]
    },
    {
     "name": "stdout",
     "output_type": "stream",
     "text": [
      "[epoch 90] train_loss: 0.419  val_accuracy: 0.830\n"
     ]
    },
    {
     "name": "stderr",
     "output_type": "stream",
     "text": [
      "train epoch[91/150] loss:0.514: 100%|██████████| 104/104 [00:06<00:00, 15.03it/s]\n",
      "100%|██████████| 12/12 [00:01<00:00,  9.35it/s]\n",
      "  0%|          | 0/104 [00:00<?, ?it/s]"
     ]
    },
    {
     "name": "stdout",
     "output_type": "stream",
     "text": [
      "[epoch 91] train_loss: 0.437  val_accuracy: 0.838\n"
     ]
    },
    {
     "name": "stderr",
     "output_type": "stream",
     "text": [
      "train epoch[92/150] loss:0.444: 100%|██████████| 104/104 [00:06<00:00, 15.14it/s]\n",
      "100%|██████████| 12/12 [00:01<00:00,  9.63it/s]\n",
      "  0%|          | 0/104 [00:00<?, ?it/s]"
     ]
    },
    {
     "name": "stdout",
     "output_type": "stream",
     "text": [
      "[epoch 92] train_loss: 0.383  val_accuracy: 0.821\n"
     ]
    },
    {
     "name": "stderr",
     "output_type": "stream",
     "text": [
      "train epoch[93/150] loss:0.732: 100%|██████████| 104/104 [00:06<00:00, 15.51it/s]\n",
      "100%|██████████| 12/12 [00:01<00:00,  9.75it/s]\n",
      "  0%|          | 0/104 [00:00<?, ?it/s]"
     ]
    },
    {
     "name": "stdout",
     "output_type": "stream",
     "text": [
      "[epoch 93] train_loss: 0.439  val_accuracy: 0.835\n"
     ]
    },
    {
     "name": "stderr",
     "output_type": "stream",
     "text": [
      "train epoch[94/150] loss:0.252: 100%|██████████| 104/104 [00:06<00:00, 15.18it/s]\n",
      "100%|██████████| 12/12 [00:01<00:00,  9.62it/s]\n",
      "  0%|          | 0/104 [00:00<?, ?it/s]"
     ]
    },
    {
     "name": "stdout",
     "output_type": "stream",
     "text": [
      "[epoch 94] train_loss: 0.408  val_accuracy: 0.838\n"
     ]
    },
    {
     "name": "stderr",
     "output_type": "stream",
     "text": [
      "train epoch[95/150] loss:0.074: 100%|██████████| 104/104 [00:06<00:00, 15.09it/s]\n",
      "100%|██████████| 12/12 [00:01<00:00,  9.74it/s]\n",
      "  0%|          | 0/104 [00:00<?, ?it/s]"
     ]
    },
    {
     "name": "stdout",
     "output_type": "stream",
     "text": [
      "[epoch 95] train_loss: 0.395  val_accuracy: 0.849\n"
     ]
    },
    {
     "name": "stderr",
     "output_type": "stream",
     "text": [
      "train epoch[96/150] loss:0.055: 100%|██████████| 104/104 [00:06<00:00, 15.05it/s]\n",
      "100%|██████████| 12/12 [00:01<00:00,  9.74it/s]\n",
      "  0%|          | 0/104 [00:00<?, ?it/s]"
     ]
    },
    {
     "name": "stdout",
     "output_type": "stream",
     "text": [
      "[epoch 96] train_loss: 0.366  val_accuracy: 0.854\n"
     ]
    },
    {
     "name": "stderr",
     "output_type": "stream",
     "text": [
      "train epoch[97/150] loss:0.052: 100%|██████████| 104/104 [00:06<00:00, 15.37it/s]\n",
      "100%|██████████| 12/12 [00:01<00:00,  9.10it/s]\n",
      "  0%|          | 0/104 [00:00<?, ?it/s]"
     ]
    },
    {
     "name": "stdout",
     "output_type": "stream",
     "text": [
      "[epoch 97] train_loss: 0.343  val_accuracy: 0.838\n"
     ]
    },
    {
     "name": "stderr",
     "output_type": "stream",
     "text": [
      "train epoch[98/150] loss:0.281: 100%|██████████| 104/104 [00:06<00:00, 15.20it/s]\n",
      "100%|██████████| 12/12 [00:01<00:00,  9.60it/s]\n",
      "  0%|          | 0/104 [00:00<?, ?it/s]"
     ]
    },
    {
     "name": "stdout",
     "output_type": "stream",
     "text": [
      "[epoch 98] train_loss: 0.354  val_accuracy: 0.830\n"
     ]
    },
    {
     "name": "stderr",
     "output_type": "stream",
     "text": [
      "train epoch[99/150] loss:0.039: 100%|██████████| 104/104 [00:06<00:00, 15.14it/s]\n",
      "100%|██████████| 12/12 [00:01<00:00,  9.88it/s]\n",
      "  0%|          | 0/104 [00:00<?, ?it/s]"
     ]
    },
    {
     "name": "stdout",
     "output_type": "stream",
     "text": [
      "[epoch 99] train_loss: 0.389  val_accuracy: 0.821\n"
     ]
    },
    {
     "name": "stderr",
     "output_type": "stream",
     "text": [
      "train epoch[100/150] loss:0.455: 100%|██████████| 104/104 [00:06<00:00, 15.18it/s]\n",
      "100%|██████████| 12/12 [00:01<00:00,  9.57it/s]\n",
      "  0%|          | 0/104 [00:00<?, ?it/s]"
     ]
    },
    {
     "name": "stdout",
     "output_type": "stream",
     "text": [
      "[epoch 100] train_loss: 0.360  val_accuracy: 0.813\n"
     ]
    },
    {
     "name": "stderr",
     "output_type": "stream",
     "text": [
      "train epoch[101/150] loss:0.408: 100%|██████████| 104/104 [00:06<00:00, 15.40it/s]\n",
      "100%|██████████| 12/12 [00:01<00:00,  9.48it/s]\n",
      "  0%|          | 0/104 [00:00<?, ?it/s]"
     ]
    },
    {
     "name": "stdout",
     "output_type": "stream",
     "text": [
      "[epoch 101] train_loss: 0.419  val_accuracy: 0.788\n"
     ]
    },
    {
     "name": "stderr",
     "output_type": "stream",
     "text": [
      "train epoch[102/150] loss:0.838: 100%|██████████| 104/104 [00:06<00:00, 15.21it/s]\n",
      "100%|██████████| 12/12 [00:01<00:00,  9.45it/s]\n",
      "  0%|          | 0/104 [00:00<?, ?it/s]"
     ]
    },
    {
     "name": "stdout",
     "output_type": "stream",
     "text": [
      "[epoch 102] train_loss: 0.368  val_accuracy: 0.827\n"
     ]
    },
    {
     "name": "stderr",
     "output_type": "stream",
     "text": [
      "train epoch[103/150] loss:0.870: 100%|██████████| 104/104 [00:06<00:00, 15.22it/s]\n",
      "100%|██████████| 12/12 [00:01<00:00,  9.60it/s]\n",
      "  0%|          | 0/104 [00:00<?, ?it/s]"
     ]
    },
    {
     "name": "stdout",
     "output_type": "stream",
     "text": [
      "[epoch 103] train_loss: 0.380  val_accuracy: 0.827\n"
     ]
    },
    {
     "name": "stderr",
     "output_type": "stream",
     "text": [
      "train epoch[104/150] loss:0.300: 100%|██████████| 104/104 [00:06<00:00, 15.43it/s]\n",
      "100%|██████████| 12/12 [00:01<00:00,  9.13it/s]\n",
      "  0%|          | 0/104 [00:00<?, ?it/s]"
     ]
    },
    {
     "name": "stdout",
     "output_type": "stream",
     "text": [
      "[epoch 104] train_loss: 0.379  val_accuracy: 0.830\n"
     ]
    },
    {
     "name": "stderr",
     "output_type": "stream",
     "text": [
      "train epoch[105/150] loss:0.236: 100%|██████████| 104/104 [00:06<00:00, 15.03it/s]\n",
      "100%|██████████| 12/12 [00:01<00:00,  9.37it/s]\n",
      "  0%|          | 0/104 [00:00<?, ?it/s]"
     ]
    },
    {
     "name": "stdout",
     "output_type": "stream",
     "text": [
      "[epoch 105] train_loss: 0.384  val_accuracy: 0.827\n"
     ]
    },
    {
     "name": "stderr",
     "output_type": "stream",
     "text": [
      "train epoch[106/150] loss:0.035: 100%|██████████| 104/104 [00:06<00:00, 15.07it/s]\n",
      "100%|██████████| 12/12 [00:01<00:00,  9.16it/s]\n",
      "  0%|          | 0/104 [00:00<?, ?it/s]"
     ]
    },
    {
     "name": "stdout",
     "output_type": "stream",
     "text": [
      "[epoch 106] train_loss: 0.340  val_accuracy: 0.827\n"
     ]
    },
    {
     "name": "stderr",
     "output_type": "stream",
     "text": [
      "train epoch[107/150] loss:1.192: 100%|██████████| 104/104 [00:06<00:00, 15.12it/s]\n",
      "100%|██████████| 12/12 [00:01<00:00,  9.82it/s]\n",
      "  0%|          | 0/104 [00:00<?, ?it/s]"
     ]
    },
    {
     "name": "stdout",
     "output_type": "stream",
     "text": [
      "[epoch 107] train_loss: 0.380  val_accuracy: 0.824\n"
     ]
    },
    {
     "name": "stderr",
     "output_type": "stream",
     "text": [
      "train epoch[108/150] loss:0.430: 100%|██████████| 104/104 [00:06<00:00, 15.28it/s]\n",
      "100%|██████████| 12/12 [00:01<00:00,  9.74it/s]\n",
      "  0%|          | 0/104 [00:00<?, ?it/s]"
     ]
    },
    {
     "name": "stdout",
     "output_type": "stream",
     "text": [
      "[epoch 108] train_loss: 0.409  val_accuracy: 0.810\n"
     ]
    },
    {
     "name": "stderr",
     "output_type": "stream",
     "text": [
      "train epoch[109/150] loss:0.432: 100%|██████████| 104/104 [00:06<00:00, 15.27it/s]\n",
      "100%|██████████| 12/12 [00:01<00:00,  9.55it/s]\n",
      "  0%|          | 0/104 [00:00<?, ?it/s]"
     ]
    },
    {
     "name": "stdout",
     "output_type": "stream",
     "text": [
      "[epoch 109] train_loss: 0.379  val_accuracy: 0.830\n"
     ]
    },
    {
     "name": "stderr",
     "output_type": "stream",
     "text": [
      "train epoch[110/150] loss:0.043: 100%|██████████| 104/104 [00:06<00:00, 15.01it/s]\n",
      "100%|██████████| 12/12 [00:01<00:00,  9.60it/s]\n",
      "  0%|          | 0/104 [00:00<?, ?it/s]"
     ]
    },
    {
     "name": "stdout",
     "output_type": "stream",
     "text": [
      "[epoch 110] train_loss: 0.357  val_accuracy: 0.841\n"
     ]
    },
    {
     "name": "stderr",
     "output_type": "stream",
     "text": [
      "train epoch[111/150] loss:0.039: 100%|██████████| 104/104 [00:06<00:00, 15.32it/s]\n",
      "100%|██████████| 12/12 [00:01<00:00,  9.59it/s]\n",
      "  0%|          | 0/104 [00:00<?, ?it/s]"
     ]
    },
    {
     "name": "stdout",
     "output_type": "stream",
     "text": [
      "[epoch 111] train_loss: 0.328  val_accuracy: 0.819\n"
     ]
    },
    {
     "name": "stderr",
     "output_type": "stream",
     "text": [
      "train epoch[112/150] loss:0.323: 100%|██████████| 104/104 [00:06<00:00, 15.99it/s]\n",
      "100%|██████████| 12/12 [00:01<00:00,  9.67it/s]\n",
      "  0%|          | 0/104 [00:00<?, ?it/s]"
     ]
    },
    {
     "name": "stdout",
     "output_type": "stream",
     "text": [
      "[epoch 112] train_loss: 0.364  val_accuracy: 0.841\n"
     ]
    },
    {
     "name": "stderr",
     "output_type": "stream",
     "text": [
      "train epoch[113/150] loss:1.576: 100%|██████████| 104/104 [00:06<00:00, 15.95it/s]\n",
      "100%|██████████| 12/12 [00:01<00:00,  9.56it/s]\n",
      "  0%|          | 0/104 [00:00<?, ?it/s]"
     ]
    },
    {
     "name": "stdout",
     "output_type": "stream",
     "text": [
      "[epoch 113] train_loss: 0.379  val_accuracy: 0.835\n"
     ]
    },
    {
     "name": "stderr",
     "output_type": "stream",
     "text": [
      "train epoch[114/150] loss:0.268: 100%|██████████| 104/104 [00:06<00:00, 15.90it/s]\n",
      "100%|██████████| 12/12 [00:01<00:00,  9.50it/s]\n",
      "  0%|          | 0/104 [00:00<?, ?it/s]"
     ]
    },
    {
     "name": "stdout",
     "output_type": "stream",
     "text": [
      "[epoch 114] train_loss: 0.329  val_accuracy: 0.835\n"
     ]
    },
    {
     "name": "stderr",
     "output_type": "stream",
     "text": [
      "train epoch[115/150] loss:0.944: 100%|██████████| 104/104 [00:06<00:00, 16.07it/s]\n",
      "100%|██████████| 12/12 [00:01<00:00,  9.93it/s]\n",
      "  0%|          | 0/104 [00:00<?, ?it/s]"
     ]
    },
    {
     "name": "stdout",
     "output_type": "stream",
     "text": [
      "[epoch 115] train_loss: 0.362  val_accuracy: 0.832\n"
     ]
    },
    {
     "name": "stderr",
     "output_type": "stream",
     "text": [
      "train epoch[116/150] loss:0.010: 100%|██████████| 104/104 [00:06<00:00, 15.98it/s]\n",
      "100%|██████████| 12/12 [00:01<00:00,  9.56it/s]\n",
      "  0%|          | 0/104 [00:00<?, ?it/s]"
     ]
    },
    {
     "name": "stdout",
     "output_type": "stream",
     "text": [
      "[epoch 116] train_loss: 0.358  val_accuracy: 0.830\n"
     ]
    },
    {
     "name": "stderr",
     "output_type": "stream",
     "text": [
      "train epoch[117/150] loss:0.205: 100%|██████████| 104/104 [00:06<00:00, 15.98it/s]\n",
      "100%|██████████| 12/12 [00:01<00:00,  9.60it/s]\n",
      "  0%|          | 0/104 [00:00<?, ?it/s]"
     ]
    },
    {
     "name": "stdout",
     "output_type": "stream",
     "text": [
      "[epoch 117] train_loss: 0.311  val_accuracy: 0.827\n"
     ]
    },
    {
     "name": "stderr",
     "output_type": "stream",
     "text": [
      "train epoch[118/150] loss:0.020: 100%|██████████| 104/104 [00:07<00:00, 13.87it/s]\n",
      "100%|██████████| 12/12 [00:01<00:00,  9.92it/s]\n",
      "  0%|          | 0/104 [00:00<?, ?it/s]"
     ]
    },
    {
     "name": "stdout",
     "output_type": "stream",
     "text": [
      "[epoch 118] train_loss: 0.318  val_accuracy: 0.813\n"
     ]
    },
    {
     "name": "stderr",
     "output_type": "stream",
     "text": [
      "train epoch[119/150] loss:0.257: 100%|██████████| 104/104 [00:07<00:00, 14.80it/s]\n",
      "100%|██████████| 12/12 [00:01<00:00,  9.65it/s]\n",
      "  0%|          | 0/104 [00:00<?, ?it/s]"
     ]
    },
    {
     "name": "stdout",
     "output_type": "stream",
     "text": [
      "[epoch 119] train_loss: 0.339  val_accuracy: 0.827\n"
     ]
    },
    {
     "name": "stderr",
     "output_type": "stream",
     "text": [
      "train epoch[120/150] loss:0.149: 100%|██████████| 104/104 [00:06<00:00, 15.24it/s]\n",
      "100%|██████████| 12/12 [00:01<00:00,  9.40it/s]\n",
      "  0%|          | 0/104 [00:00<?, ?it/s]"
     ]
    },
    {
     "name": "stdout",
     "output_type": "stream",
     "text": [
      "[epoch 120] train_loss: 0.332  val_accuracy: 0.821\n"
     ]
    },
    {
     "name": "stderr",
     "output_type": "stream",
     "text": [
      "train epoch[121/150] loss:0.035: 100%|██████████| 104/104 [00:06<00:00, 15.25it/s]\n",
      "100%|██████████| 12/12 [00:01<00:00,  9.36it/s]\n",
      "  0%|          | 0/104 [00:00<?, ?it/s]"
     ]
    },
    {
     "name": "stdout",
     "output_type": "stream",
     "text": [
      "[epoch 121] train_loss: 0.310  val_accuracy: 0.821\n"
     ]
    },
    {
     "name": "stderr",
     "output_type": "stream",
     "text": [
      "train epoch[122/150] loss:0.212: 100%|██████████| 104/104 [00:06<00:00, 15.13it/s]\n",
      "100%|██████████| 12/12 [00:01<00:00,  9.66it/s]\n",
      "  0%|          | 0/104 [00:00<?, ?it/s]"
     ]
    },
    {
     "name": "stdout",
     "output_type": "stream",
     "text": [
      "[epoch 122] train_loss: 0.319  val_accuracy: 0.846\n"
     ]
    },
    {
     "name": "stderr",
     "output_type": "stream",
     "text": [
      "train epoch[123/150] loss:0.007: 100%|██████████| 104/104 [00:06<00:00, 15.08it/s]\n",
      "100%|██████████| 12/12 [00:01<00:00,  9.62it/s]\n",
      "  0%|          | 0/104 [00:00<?, ?it/s]"
     ]
    },
    {
     "name": "stdout",
     "output_type": "stream",
     "text": [
      "[epoch 123] train_loss: 0.318  val_accuracy: 0.846\n"
     ]
    },
    {
     "name": "stderr",
     "output_type": "stream",
     "text": [
      "train epoch[124/150] loss:0.162: 100%|██████████| 104/104 [00:06<00:00, 15.30it/s]\n",
      "100%|██████████| 12/12 [00:01<00:00,  9.77it/s]\n",
      "  0%|          | 0/104 [00:00<?, ?it/s]"
     ]
    },
    {
     "name": "stdout",
     "output_type": "stream",
     "text": [
      "[epoch 124] train_loss: 0.322  val_accuracy: 0.813\n"
     ]
    },
    {
     "name": "stderr",
     "output_type": "stream",
     "text": [
      "train epoch[125/150] loss:0.052: 100%|██████████| 104/104 [00:06<00:00, 15.35it/s]\n",
      "100%|██████████| 12/12 [00:01<00:00,  9.63it/s]\n",
      "  0%|          | 0/104 [00:00<?, ?it/s]"
     ]
    },
    {
     "name": "stdout",
     "output_type": "stream",
     "text": [
      "[epoch 125] train_loss: 0.315  val_accuracy: 0.813\n"
     ]
    },
    {
     "name": "stderr",
     "output_type": "stream",
     "text": [
      "train epoch[126/150] loss:1.058: 100%|██████████| 104/104 [00:07<00:00, 14.84it/s]\n",
      "100%|██████████| 12/12 [00:01<00:00,  9.61it/s]\n",
      "  0%|          | 0/104 [00:00<?, ?it/s]"
     ]
    },
    {
     "name": "stdout",
     "output_type": "stream",
     "text": [
      "[epoch 126] train_loss: 0.304  val_accuracy: 0.832\n"
     ]
    },
    {
     "name": "stderr",
     "output_type": "stream",
     "text": [
      "train epoch[127/150] loss:0.021: 100%|██████████| 104/104 [00:06<00:00, 15.17it/s]\n",
      "100%|██████████| 12/12 [00:01<00:00,  9.67it/s]\n",
      "  0%|          | 0/104 [00:00<?, ?it/s]"
     ]
    },
    {
     "name": "stdout",
     "output_type": "stream",
     "text": [
      "[epoch 127] train_loss: 0.282  val_accuracy: 0.832\n"
     ]
    },
    {
     "name": "stderr",
     "output_type": "stream",
     "text": [
      "train epoch[128/150] loss:0.011: 100%|██████████| 104/104 [00:06<00:00, 15.59it/s]\n",
      "100%|██████████| 12/12 [00:01<00:00,  9.79it/s]\n",
      "  0%|          | 0/104 [00:00<?, ?it/s]"
     ]
    },
    {
     "name": "stdout",
     "output_type": "stream",
     "text": [
      "[epoch 128] train_loss: 0.337  val_accuracy: 0.827\n"
     ]
    },
    {
     "name": "stderr",
     "output_type": "stream",
     "text": [
      "train epoch[129/150] loss:0.105: 100%|██████████| 104/104 [00:06<00:00, 15.08it/s]\n",
      "100%|██████████| 12/12 [00:01<00:00,  9.55it/s]\n",
      "  0%|          | 0/104 [00:00<?, ?it/s]"
     ]
    },
    {
     "name": "stdout",
     "output_type": "stream",
     "text": [
      "[epoch 129] train_loss: 0.291  val_accuracy: 0.827\n"
     ]
    },
    {
     "name": "stderr",
     "output_type": "stream",
     "text": [
      "train epoch[130/150] loss:0.170: 100%|██████████| 104/104 [00:06<00:00, 15.20it/s]\n",
      "100%|██████████| 12/12 [00:01<00:00,  9.51it/s]\n",
      "  0%|          | 0/104 [00:00<?, ?it/s]"
     ]
    },
    {
     "name": "stdout",
     "output_type": "stream",
     "text": [
      "[epoch 130] train_loss: 0.321  val_accuracy: 0.835\n"
     ]
    },
    {
     "name": "stderr",
     "output_type": "stream",
     "text": [
      "train epoch[131/150] loss:0.088: 100%|██████████| 104/104 [00:06<00:00, 15.46it/s]\n",
      "100%|██████████| 12/12 [00:01<00:00,  9.81it/s]\n",
      "  0%|          | 0/104 [00:00<?, ?it/s]"
     ]
    },
    {
     "name": "stdout",
     "output_type": "stream",
     "text": [
      "[epoch 131] train_loss: 0.333  val_accuracy: 0.824\n"
     ]
    },
    {
     "name": "stderr",
     "output_type": "stream",
     "text": [
      "train epoch[132/150] loss:0.492: 100%|██████████| 104/104 [00:06<00:00, 15.08it/s]\n",
      "100%|██████████| 12/12 [00:01<00:00,  9.52it/s]\n",
      "  0%|          | 0/104 [00:00<?, ?it/s]"
     ]
    },
    {
     "name": "stdout",
     "output_type": "stream",
     "text": [
      "[epoch 132] train_loss: 0.286  val_accuracy: 0.824\n"
     ]
    },
    {
     "name": "stderr",
     "output_type": "stream",
     "text": [
      "train epoch[133/150] loss:0.103: 100%|██████████| 104/104 [00:06<00:00, 15.16it/s]\n",
      "100%|██████████| 12/12 [00:01<00:00,  9.51it/s]\n",
      "  0%|          | 0/104 [00:00<?, ?it/s]"
     ]
    },
    {
     "name": "stdout",
     "output_type": "stream",
     "text": [
      "[epoch 133] train_loss: 0.310  val_accuracy: 0.868\n"
     ]
    },
    {
     "name": "stderr",
     "output_type": "stream",
     "text": [
      "train epoch[134/150] loss:0.224: 100%|██████████| 104/104 [00:06<00:00, 15.08it/s]\n",
      "100%|██████████| 12/12 [00:01<00:00,  9.78it/s]\n",
      "  0%|          | 0/104 [00:00<?, ?it/s]"
     ]
    },
    {
     "name": "stdout",
     "output_type": "stream",
     "text": [
      "[epoch 134] train_loss: 0.331  val_accuracy: 0.868\n"
     ]
    },
    {
     "name": "stderr",
     "output_type": "stream",
     "text": [
      "train epoch[135/150] loss:0.534: 100%|██████████| 104/104 [00:06<00:00, 15.17it/s]\n",
      "100%|██████████| 12/12 [00:01<00:00,  9.30it/s]\n",
      "  0%|          | 0/104 [00:00<?, ?it/s]"
     ]
    },
    {
     "name": "stdout",
     "output_type": "stream",
     "text": [
      "[epoch 135] train_loss: 0.295  val_accuracy: 0.824\n"
     ]
    },
    {
     "name": "stderr",
     "output_type": "stream",
     "text": [
      "train epoch[136/150] loss:0.496: 100%|██████████| 104/104 [00:06<00:00, 15.08it/s]\n",
      "100%|██████████| 12/12 [00:01<00:00,  9.57it/s]\n",
      "  0%|          | 0/104 [00:00<?, ?it/s]"
     ]
    },
    {
     "name": "stdout",
     "output_type": "stream",
     "text": [
      "[epoch 136] train_loss: 0.288  val_accuracy: 0.860\n"
     ]
    },
    {
     "name": "stderr",
     "output_type": "stream",
     "text": [
      "train epoch[137/150] loss:0.004: 100%|██████████| 104/104 [00:06<00:00, 15.08it/s]\n",
      "100%|██████████| 12/12 [00:01<00:00,  9.60it/s]\n",
      "  0%|          | 0/104 [00:00<?, ?it/s]"
     ]
    },
    {
     "name": "stdout",
     "output_type": "stream",
     "text": [
      "[epoch 137] train_loss: 0.300  val_accuracy: 0.805\n"
     ]
    },
    {
     "name": "stderr",
     "output_type": "stream",
     "text": [
      "train epoch[138/150] loss:0.428: 100%|██████████| 104/104 [00:06<00:00, 15.15it/s]\n",
      "100%|██████████| 12/12 [00:01<00:00,  9.29it/s]\n",
      "  0%|          | 0/104 [00:00<?, ?it/s]"
     ]
    },
    {
     "name": "stdout",
     "output_type": "stream",
     "text": [
      "[epoch 138] train_loss: 0.318  val_accuracy: 0.821\n"
     ]
    },
    {
     "name": "stderr",
     "output_type": "stream",
     "text": [
      "train epoch[139/150] loss:0.132: 100%|██████████| 104/104 [00:06<00:00, 15.28it/s]\n",
      "100%|██████████| 12/12 [00:01<00:00,  9.62it/s]\n",
      "  0%|          | 0/104 [00:00<?, ?it/s]"
     ]
    },
    {
     "name": "stdout",
     "output_type": "stream",
     "text": [
      "[epoch 139] train_loss: 0.276  val_accuracy: 0.816\n"
     ]
    },
    {
     "name": "stderr",
     "output_type": "stream",
     "text": [
      "train epoch[140/150] loss:0.058: 100%|██████████| 104/104 [00:06<00:00, 15.24it/s]\n",
      "100%|██████████| 12/12 [00:01<00:00,  9.55it/s]\n",
      "  0%|          | 0/104 [00:00<?, ?it/s]"
     ]
    },
    {
     "name": "stdout",
     "output_type": "stream",
     "text": [
      "[epoch 140] train_loss: 0.284  val_accuracy: 0.838\n"
     ]
    },
    {
     "name": "stderr",
     "output_type": "stream",
     "text": [
      "train epoch[141/150] loss:0.204: 100%|██████████| 104/104 [00:06<00:00, 14.96it/s]\n",
      "100%|██████████| 12/12 [00:01<00:00,  9.44it/s]\n",
      "  0%|          | 0/104 [00:00<?, ?it/s]"
     ]
    },
    {
     "name": "stdout",
     "output_type": "stream",
     "text": [
      "[epoch 141] train_loss: 0.290  val_accuracy: 0.816\n"
     ]
    },
    {
     "name": "stderr",
     "output_type": "stream",
     "text": [
      "train epoch[142/150] loss:0.056: 100%|██████████| 104/104 [00:06<00:00, 15.27it/s]\n",
      "100%|██████████| 12/12 [00:01<00:00,  9.23it/s]\n",
      "  0%|          | 0/104 [00:00<?, ?it/s]"
     ]
    },
    {
     "name": "stdout",
     "output_type": "stream",
     "text": [
      "[epoch 142] train_loss: 0.320  val_accuracy: 0.830\n"
     ]
    },
    {
     "name": "stderr",
     "output_type": "stream",
     "text": [
      "train epoch[143/150] loss:0.327: 100%|██████████| 104/104 [00:06<00:00, 15.45it/s]\n",
      "100%|██████████| 12/12 [00:01<00:00,  9.79it/s]\n",
      "  0%|          | 0/104 [00:00<?, ?it/s]"
     ]
    },
    {
     "name": "stdout",
     "output_type": "stream",
     "text": [
      "[epoch 143] train_loss: 0.290  val_accuracy: 0.813\n"
     ]
    },
    {
     "name": "stderr",
     "output_type": "stream",
     "text": [
      "train epoch[144/150] loss:0.271: 100%|██████████| 104/104 [00:06<00:00, 15.23it/s]\n",
      "100%|██████████| 12/12 [00:01<00:00,  9.72it/s]\n",
      "  0%|          | 0/104 [00:00<?, ?it/s]"
     ]
    },
    {
     "name": "stdout",
     "output_type": "stream",
     "text": [
      "[epoch 144] train_loss: 0.308  val_accuracy: 0.857\n"
     ]
    },
    {
     "name": "stderr",
     "output_type": "stream",
     "text": [
      "train epoch[145/150] loss:0.042: 100%|██████████| 104/104 [00:06<00:00, 15.32it/s]\n",
      "100%|██████████| 12/12 [00:01<00:00,  9.47it/s]\n",
      "  0%|          | 0/104 [00:00<?, ?it/s]"
     ]
    },
    {
     "name": "stdout",
     "output_type": "stream",
     "text": [
      "[epoch 145] train_loss: 0.300  val_accuracy: 0.838\n"
     ]
    },
    {
     "name": "stderr",
     "output_type": "stream",
     "text": [
      "train epoch[146/150] loss:0.162: 100%|██████████| 104/104 [00:06<00:00, 15.14it/s]\n",
      "100%|██████████| 12/12 [00:01<00:00,  9.33it/s]\n",
      "  0%|          | 0/104 [00:00<?, ?it/s]"
     ]
    },
    {
     "name": "stdout",
     "output_type": "stream",
     "text": [
      "[epoch 146] train_loss: 0.289  val_accuracy: 0.821\n"
     ]
    },
    {
     "name": "stderr",
     "output_type": "stream",
     "text": [
      "train epoch[147/150] loss:0.564: 100%|██████████| 104/104 [00:06<00:00, 15.25it/s]\n",
      "100%|██████████| 12/12 [00:01<00:00,  9.56it/s]\n",
      "  0%|          | 0/104 [00:00<?, ?it/s]"
     ]
    },
    {
     "name": "stdout",
     "output_type": "stream",
     "text": [
      "[epoch 147] train_loss: 0.304  val_accuracy: 0.852\n"
     ]
    },
    {
     "name": "stderr",
     "output_type": "stream",
     "text": [
      "train epoch[148/150] loss:0.310: 100%|██████████| 104/104 [00:06<00:00, 15.34it/s]\n",
      "100%|██████████| 12/12 [00:01<00:00,  9.39it/s]\n",
      "  0%|          | 0/104 [00:00<?, ?it/s]"
     ]
    },
    {
     "name": "stdout",
     "output_type": "stream",
     "text": [
      "[epoch 148] train_loss: 0.286  val_accuracy: 0.827\n"
     ]
    },
    {
     "name": "stderr",
     "output_type": "stream",
     "text": [
      "train epoch[149/150] loss:0.448: 100%|██████████| 104/104 [00:06<00:00, 15.14it/s]\n",
      "100%|██████████| 12/12 [00:01<00:00,  9.81it/s]\n",
      "  0%|          | 0/104 [00:00<?, ?it/s]"
     ]
    },
    {
     "name": "stdout",
     "output_type": "stream",
     "text": [
      "[epoch 149] train_loss: 0.281  val_accuracy: 0.835\n"
     ]
    },
    {
     "name": "stderr",
     "output_type": "stream",
     "text": [
      "train epoch[150/150] loss:0.141: 100%|██████████| 104/104 [00:06<00:00, 15.50it/s]\n",
      "100%|██████████| 12/12 [00:01<00:00,  9.63it/s]"
     ]
    },
    {
     "name": "stdout",
     "output_type": "stream",
     "text": [
      "[epoch 150] train_loss: 0.253  val_accuracy: 0.813\n",
      "Finished Training\n",
      "CPU times: user 13min 28s, sys: 6min 2s, total: 19min 30s\n",
      "Wall time: 20min 16s\n"
     ]
    },
    {
     "name": "stderr",
     "output_type": "stream",
     "text": [
      "\n"
     ]
    }
   ],
   "source": [
    "%%time\n",
    "\n",
    "from tensorboardX import SummaryWriter\n",
    "writer1 = SummaryWriter('runs02/accuracy')\n",
    "# start tensorboard\n",
    "%load_ext tensorboard\n",
    "%tensorboard --logdir=runs02/accuracy\n",
    "l_train_loss, l_accuracy = train()"
   ]
  },
  {
   "cell_type": "code",
   "execution_count": 52,
   "metadata": {
    "collapsed": true,
    "jupyter": {
     "outputs_hidden": true
    },
    "tags": []
   },
   "outputs": [
    {
     "name": "stdout",
     "output_type": "stream",
     "text": [
      "memory.free [MiB]\n",
      "20564 MiB\n"
     ]
    }
   ],
   "source": [
    "!nvidia-smi --query-gpu=memory.free --format=csv"
   ]
  },
  {
   "cell_type": "code",
   "execution_count": 53,
   "metadata": {},
   "outputs": [
    {
     "data": {
      "text/plain": [
       "[<matplotlib.lines.Line2D at 0x7f06d4834c40>]"
      ]
     },
     "execution_count": 53,
     "metadata": {},
     "output_type": "execute_result"
    },
    {
     "data": {
      "image/png": "[encoded data removed]",
      "text/plain": [
       "<Figure size 432x288 with 1 Axes>"
      ]
     },
     "metadata": {
      "needs_background": "light"
     },
     "output_type": "display_data"
    }
   ],
   "source": [
    "import matplotlib.pyplot as plt\n",
    "fig = plt.figure()\n",
    "plt.plot(l_train_loss)\n",
    "plt.savefig(\"train_loss.jpg\")"
   ]
  },
  {
   "cell_type": "code",
   "execution_count": 59,
   "metadata": {},
   "outputs": [
    {
     "data": {
      "text/plain": [
       "(0.0, 1.0)"
      ]
     },
     "execution_count": 59,
     "metadata": {},
     "output_type": "execute_result"
    },
    {
     "data": {
      "text/plain": [
       "<matplotlib.collections.LineCollection at 0x7f06d46a0a30>"
      ]
     },
     "execution_count": 59,
     "metadata": {},
     "output_type": "execute_result"
    },
    {
     "data": {
      "text/plain": [
       "Text(3.5, 0.7802197802197801, '0.83')"
      ]
     },
     "execution_count": 59,
     "metadata": {},
     "output_type": "execute_result"
    },
    {
     "data": {
      "text/plain": [
       "[<matplotlib.lines.Line2D at 0x7f06d4650820>]"
      ]
     },
     "execution_count": 59,
     "metadata": {},
     "output_type": "execute_result"
    },
    {
     "data": {
      "image/png": "[encoded data removed]",
      "text/plain": [
       "<Figure size 432x288 with 1 Axes>"
      ]
     },
     "metadata": {
      "needs_background": "light"
     },
     "output_type": "display_data"
    }
   ],
   "source": [
    "fig = plt.figure()\n",
    "# plt.xlim(-2, len(l_accuracy)+1)\n",
    "plt.ylim(0, 1)\n",
    "plt.hlines(np.mean(l_accuracy[-10:]), len(l_accuracy)+2, l_accuracy[-1], linestyle=\"dashed\", color=\"black\")\n",
    "plt.text(3.5, np.mean(l_accuracy[-10:])-0.05, '{}'.format(np.round(np.mean(l_accuracy[-10:]), 2), ha='center', va= 'bottom'))\n",
    "plt.plot(l_accuracy)\n",
    "plt.savefig(\"val_acc.jpg\")"
   ]
  },
  {
   "cell_type": "code",
   "execution_count": 55,
   "metadata": {},
   "outputs": [],
   "source": [
    "# len(l_train_loss)\n",
    "# print(list(map(lambda x: round(x, 2), l_train_loss)))"
   ]
  },
  {
   "cell_type": "code",
   "execution_count": 56,
   "metadata": {},
   "outputs": [],
   "source": [
    "# len(l_accuracy)\n",
    "# print(list(map(lambda x: round(x, 3), l_accuracy)))"
   ]
  },
  {
   "cell_type": "code",
   "execution_count": null,
   "metadata": {},
   "outputs": [],
   "source": []
  }
 ],
 "metadata": {
  "kernelspec": {
   "display_name": "Python 3",
   "language": "python",
   "name": "python3"
  },
  "language_info": {
   "codemirror_mode": {
    "name": "ipython",
    "version": 3
   },
   "file_extension": ".py",
   "mimetype": "text/x-python",
   "name": "python",
   "nbconvert_exporter": "python",
   "pygments_lexer": "ipython3",
   "version": "3.8.5"
  }
 },
 "nbformat": 4,
 "nbformat_minor": 5
}
